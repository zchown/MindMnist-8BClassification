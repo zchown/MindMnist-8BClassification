{
 "cells": [
  {
   "cell_type": "code",
   "execution_count": 1,
   "id": "8a915fd8",
   "metadata": {
    "_cell_guid": "b1076dfc-b9ad-4769-8c92-a6c4dae69d19",
    "_uuid": "8f2839f25d086af736a60e9eeb907d3b93b6e0e5",
    "execution": {
     "iopub.execute_input": "2024-04-25T21:33:16.153061Z",
     "iopub.status.busy": "2024-04-25T21:33:16.152404Z",
     "iopub.status.idle": "2024-04-25T21:33:17.817358Z",
     "shell.execute_reply": "2024-04-25T21:33:17.815897Z"
    },
    "papermill": {
     "duration": 1.676775,
     "end_time": "2024-04-25T21:33:17.820822",
     "exception": false,
     "start_time": "2024-04-25T21:33:16.144047",
     "status": "completed"
    },
    "tags": []
   },
   "outputs": [],
   "source": [
    "import numpy as np\n",
    "import pandas as pd\n",
    "from tqdm import tqdm\n",
    "import matplotlib.pyplot as plt\n",
    "import scipy.fft as fft"
   ]
  },
  {
   "cell_type": "code",
   "execution_count": 2,
   "id": "380e8cdb",
   "metadata": {
    "execution": {
     "iopub.execute_input": "2024-04-25T21:33:17.835210Z",
     "iopub.status.busy": "2024-04-25T21:33:17.833473Z",
     "iopub.status.idle": "2024-04-25T21:33:17.846939Z",
     "shell.execute_reply": "2024-04-25T21:33:17.845562Z"
    },
    "papermill": {
     "duration": 0.023599,
     "end_time": "2024-04-25T21:33:17.850120",
     "exception": false,
     "start_time": "2024-04-25T21:33:17.826521",
     "status": "completed"
    },
    "tags": []
   },
   "outputs": [],
   "source": [
    "electrode_names = [\n",
    "    \"FP1\", \"FPz\", \"FP2\", \"AFp1\", \"AFPz\", \"AFp2\", \"AF7\", \"AF3\", \"AF4\", \"AF8\",\n",
    "    \"AFF5h\", \"AFF1h\", \"AFF2h\", \"AFF6h\", \"F9\", \"F7\", \"F5\", \"F3\", \"F1\", \"Fz\",\n",
    "    \"F2\", \"F4\", \"F6\", \"F8\", \"F10\", \"FFT9h\", \"FFT7h\", \"FFC5h\", \"FFC3h\", \"FFC1h\",\n",
    "    \"FFC2h\", \"FFC4h\", \"FFC6h\", \"FFT8h\", \"FFT10h\", \"FT9\", \"FT7\", \"FC5\", \"FC3\",\n",
    "    \"FC1\", \"FCz\", \"FC2\", \"FC4\", \"FC6\", \"FT8\", \"FT10\", \"FTT9h\", \"FTT7h\", \"FCC5h\",\n",
    "    \"FCC3h\", \"FCC1h\", \"FCC2h\", \"FCC4h\", \"FCC6h\", \"FTT8h\", \"FTT10h\", \"T7\", \"C5\",\n",
    "    \"C3\", \"C1\", \"Cz\", \"C2\", \"C4\", \"C6\", \"T8\", \"TTP7h\", \"CCP5h\", \"CCP3h\", \"CCP1h\",\n",
    "    \"CCP2h\", \"CCP4h\", \"CCP6h\", \"TTP8h\", \"TP9\", \"TP7\", \"CP5\", \"CP3\", \"Cpz\", \"CP4\",\n",
    "    \"CP6\", \"TP8\", \"TP10\", \"TPP9h\", \"TPP7h\", \"CPP5h\", \"CPP3h\", \"CPP1h\", \"CPP2h\",\n",
    "    \"CPP4h\", \"CPP6h\", \"TPP8h\", \"TPP10h\", \"P9\", \"P7\", \"P5\", \"P3\", \"P1\", \"Pz\", \"P2\",\n",
    "    \"P4\", \"P6\", \"P8\", \"P10\", \"PPO9h\", \"PPO5h\", \"PPO1h\", \"PPO2h\", \"PPO6h\", \"PPO10h\",\n",
    "    \"PO9\", \"PO7\", \"PO3\", \"POz\", \"PO4\", \"PO8\", \"PO10\", \"POO9h\", \"POO1\", \"POO2\",\n",
    "    \"POO10h\", \"O1\", \"Oz\", \"O2\", \"OI1h\", \"OI2h\", \"I1\", \"Iz\", \"I2\"\n",
    "]\n",
    "\n",
    "num_electrodes = len(electrode_names)\n",
    "\n",
    "num_electrodes\n",
    "NUM_CHANNELS_TO_LOAD = 128\n",
    "DATA_SIZE = 60_000\n",
    "SIGNAL_LENGTH = 167"
   ]
  },
  {
   "cell_type": "code",
   "execution_count": 3,
   "id": "d9e8d5c1",
   "metadata": {
    "execution": {
     "iopub.execute_input": "2024-04-25T21:33:17.862876Z",
     "iopub.status.busy": "2024-04-25T21:33:17.862384Z",
     "iopub.status.idle": "2024-04-25T21:33:17.876401Z",
     "shell.execute_reply": "2024-04-25T21:33:17.875028Z"
    },
    "papermill": {
     "duration": 0.023843,
     "end_time": "2024-04-25T21:33:17.879217",
     "exception": false,
     "start_time": "2024-04-25T21:33:17.855374",
     "status": "completed"
    },
    "tags": []
   },
   "outputs": [],
   "source": [
    "labels = np.zeros(DATA_SIZE, dtype=int)\n",
    "data = np.zeros((DATA_SIZE, NUM_CHANNELS_TO_LOAD, SIGNAL_LENGTH))\n",
    "\n",
    "def data_selection():\n",
    "    class_means = np.zeros((11, 128, 167))\n",
    "    for i in tqdm(range(-1, 10)):\n",
    "        class_means[i+1] = np.mean(data[labels == i], axis=0)\n",
    "    z = np.zeros(DATA_SIZE)\n",
    "    for i in tqdm(range(DATA_SIZE)):\n",
    "        j = labels[i]\n",
    "        x = data[i]\n",
    "        z[i] = np.corrcoef(x, class_means[j])[0][1]\n",
    "    return z\n",
    "\n",
    "def load_channel(channel: int, cz: int):\n",
    "    i = 0\n",
    "    csize = cz\n",
    "    for chunk in tqdm(pd.read_csv('/kaggle/input/processed-train/processed_train.csv', chunksize=cz)):\n",
    "        labels[i*csize:(i+1)*csize] = chunk['label'].to_numpy()\n",
    "        data[i*csize:(i+1)*csize] = chunk.iloc[0:csize, :-2].to_numpy().reshape((csize,NUM_CHANNELS_TO_LOAD,SIGNAL_LENGTH))[:,channel:channel+NUM_CHANNELS_TO_LOAD,:].reshape((csize, NUM_CHANNELS_TO_LOAD, SIGNAL_LENGTH))\n",
    "        i = i + 1\n",
    "        if i == (DATA_SIZE / csize):\n",
    "            break\n",
    "    \n",
    "        "
   ]
  },
  {
   "cell_type": "code",
   "execution_count": 4,
   "id": "2d6a3562",
   "metadata": {
    "execution": {
     "iopub.execute_input": "2024-04-25T21:33:17.892329Z",
     "iopub.status.busy": "2024-04-25T21:33:17.891657Z",
     "iopub.status.idle": "2024-04-25T21:33:19.381109Z",
     "shell.execute_reply": "2024-04-25T21:33:19.379831Z"
    },
    "papermill": {
     "duration": 1.499572,
     "end_time": "2024-04-25T21:33:19.384023",
     "exception": false,
     "start_time": "2024-04-25T21:33:17.884451",
     "status": "completed"
    },
    "tags": []
   },
   "outputs": [],
   "source": [
    "from sklearn.model_selection import train_test_split\n",
    "from sklearn.neighbors import KNeighborsClassifier\n",
    "from sklearn.metrics import accuracy_score\n",
    "from multiprocessing import Pool, Pipe\n",
    "from itertools import combinations\n",
    "\n",
    "n_neighbors = 13\n",
    "\n",
    "def do_work(i):\n",
    "    nums = [0, 1, 2, 3, 4, 5, 6, 7, 8, 9]\n",
    "    result = np.zeros((11,11))\n",
    "    for e, x in enumerate(combinations(nums, 2)):\n",
    "        j, l = x\n",
    "        y = labels[(labels == j) | (labels == l)]\n",
    "        d = data[(labels == j) | (labels == l)]\n",
    "        X_train, X_test, y_train, y_test = train_test_split(d[:,i,:], y, test_size=0.2, random_state=42)\n",
    "        knn = KNeighborsClassifier(n_neighbors=n_neighbors, weights='distance')\n",
    "        knn.fit(X_train, y_train)\n",
    "        y_pred = knn.predict(X_test)\n",
    "        a = accuracy_score(y_test, y_pred)\n",
    "        result[j, l] = a\n",
    "        result[l, j] = a\n",
    "    r = result.flatten()\n",
    "    r = r[r != 0]\n",
    "    print(\"i: \" + str(i) + \": \" + str(np.mean(r)))\n",
    "    return result\n",
    "\n",
    "\n",
    "def classify_all_nums():\n",
    "    with Pool() as pool:\n",
    "        accuracies = pool.map(do_work, range(NUM_CHANNELS_TO_LOAD))\n",
    "    return accuracies\n",
    "\n"
   ]
  },
  {
   "cell_type": "code",
   "execution_count": 5,
   "id": "0e73bf22",
   "metadata": {
    "execution": {
     "iopub.execute_input": "2024-04-25T21:33:19.396964Z",
     "iopub.status.busy": "2024-04-25T21:33:19.396391Z",
     "iopub.status.idle": "2024-04-25T21:45:44.244343Z",
     "shell.execute_reply": "2024-04-25T21:45:44.242812Z"
    },
    "papermill": {
     "duration": 744.863202,
     "end_time": "2024-04-25T21:45:44.252443",
     "exception": false,
     "start_time": "2024-04-25T21:33:19.389241",
     "status": "completed"
    },
    "tags": []
   },
   "outputs": [
    {
     "name": "stderr",
     "output_type": "stream",
     "text": [
      "59it [12:24, 12.62s/it]\n"
     ]
    }
   ],
   "source": [
    "load_channel(0, 1000)"
   ]
  },
  {
   "cell_type": "code",
   "execution_count": 6,
   "id": "136a6d14",
   "metadata": {
    "execution": {
     "iopub.execute_input": "2024-04-25T21:45:44.278594Z",
     "iopub.status.busy": "2024-04-25T21:45:44.278128Z",
     "iopub.status.idle": "2024-04-25T21:48:19.074838Z",
     "shell.execute_reply": "2024-04-25T21:48:19.072382Z"
    },
    "papermill": {
     "duration": 154.813806,
     "end_time": "2024-04-25T21:48:19.077923",
     "exception": false,
     "start_time": "2024-04-25T21:45:44.264117",
     "status": "completed"
    },
    "tags": []
   },
   "outputs": [
    {
     "name": "stderr",
     "output_type": "stream",
     "text": [
      "100%|██████████| 11/11 [00:04<00:00,  2.42it/s]\n",
      "  0%|          | 0/60000 [00:00<?, ?it/s]/opt/conda/lib/python3.10/site-packages/numpy/lib/function_base.py:2897: RuntimeWarning: invalid value encountered in divide\n",
      "  c /= stddev[:, None]\n",
      "/opt/conda/lib/python3.10/site-packages/numpy/lib/function_base.py:2898: RuntimeWarning: invalid value encountered in divide\n",
      "  c /= stddev[None, :]\n",
      "100%|██████████| 60000/60000 [02:27<00:00, 406.88it/s]\n"
     ]
    },
    {
     "name": "stdout",
     "output_type": "stream",
     "text": [
      "(29074, 128, 167)\n"
     ]
    }
   ],
   "source": [
    "z = data_selection()\n",
    "data = data[np.abs(z) >= 0.2]\n",
    "print(data.shape)\n",
    "labels = labels[np.abs(z) >= 0.2]\n"
   ]
  },
  {
   "cell_type": "code",
   "execution_count": 7,
   "id": "344169a1",
   "metadata": {
    "execution": {
     "iopub.execute_input": "2024-04-25T21:48:19.485371Z",
     "iopub.status.busy": "2024-04-25T21:48:19.484510Z",
     "iopub.status.idle": "2024-04-25T22:23:43.119051Z",
     "shell.execute_reply": "2024-04-25T22:23:43.116994Z"
    },
    "papermill": {
     "duration": 2123.781737,
     "end_time": "2024-04-25T22:23:43.122329",
     "exception": false,
     "start_time": "2024-04-25T21:48:19.340592",
     "status": "completed"
    },
    "tags": []
   },
   "outputs": [
    {
     "name": "stdout",
     "output_type": "stream",
     "text": [
      "i: 16: 0.5040442441367912\n",
      "i: 0: 0.503866782118304\n",
      "i: 24: 0.5061754317530471\n",
      "i: 8: 0.5085098413131376\n",
      "i: 17: 0.503651039387069\n",
      "i: 1: 0.5071616555563847\n",
      "i: 25: 0.5027999735282958\n",
      "i: 9: 0.5012001894092752\n",
      "i: 18: 0.4993141758263392\n",
      "i: 2: 0.5040239100236975\n",
      "i: 26: 0.5048589719475007\n",
      "i: 10: 0.5012994391560421\n",
      "i: 19: 0.5047481732157824\n",
      "i: 3: 0.5032617716608025\n",
      "i: 27: 0.5010075484378652\n",
      "i: 11: 0.5008428123019305\n",
      "i: 20: 0.504930491364898\n",
      "i: 4: 0.5011950765816217\n",
      "i: 28: 0.5032372931276542\n",
      "i: 12: 0.504863567546895\n",
      "i: 21: 0.4972600263527084\n",
      "i: 5: 0.500676597015958\n",
      "i: 29: 0.4997887155780087\n",
      "i: 13: 0.5074991738463707\n",
      "i: 22: 0.4998798926495276\n",
      "i: 6: 0.4998678393058929\n",
      "i: 30: 0.49971236277209985\n",
      "i: 14: 0.49529864971407705\n",
      "i: 23: 0.5073369010489739\n",
      "i: 7: 0.5070265535607354\n",
      "i: 31: 0.5005688159451809\n",
      "i: 15: 0.5032227125347095\n",
      "i: 32: 0.5031797118199779\n",
      "i: 48: 0.5038722538804499\n",
      "i: 40: 0.49715054988621826\n",
      "i: 56: 0.49903054944997083\n",
      "i: 33: 0.5017511119089357\n",
      "i: 49: 0.49990487396453975\n",
      "i: 41: 0.49937483485051193\n",
      "i: 57: 0.5006236567591285\n",
      "i: 34: 0.5069269140854764\n",
      "i: 50: 0.5012779831905573\n",
      "i: 58: 0.4971645975824175\n",
      "i: 42: 0.5012020592826534\n",
      "i: 35: 0.4981846554323172\n",
      "i: 51: 0.5026767101496238\n",
      "i: 59: 0.5018543379082616\n",
      "i: 43: 0.5007608321081704\n",
      "i: 36: 0.500128812631981\n",
      "i: 52: 0.4996566628702542\n",
      "i: 44: 0.49908221096935323\n",
      "i: 60: 0.5004231544181771\n",
      "i: 37: 0.5052757822170011\n",
      "i: 53: 0.5009365640236756\n",
      "i: 45: 0.5038740557460496\n",
      "i: 61: 0.5003222353794511\n",
      "i: 38: 0.5037918823475128\n",
      "i: 54: 0.5002465484532741\n",
      "i: 46: 0.5061074620245161\n",
      "i: 62: 0.4966171140328207\n",
      "i: 39: 0.5023791999967478\n",
      "i: 55: 0.5042567765258968\n",
      "i: 47: 0.4987430262072066\n",
      "i: 63: 0.5036134621515247\n",
      "i: 64: 0.5029722010486546\n",
      "i: 72: 0.5038724471030543\n",
      "i: 80: 0.5055754409272691\n",
      "i: 88: 0.5017558956029777\n",
      "i: 65: 0.49734152392393993\n",
      "i: 73: 0.4993577638336956\n",
      "i: 81: 0.5057366341932481\n",
      "i: 89: 0.5018365662546809\n",
      "i: 66: 0.502909519861527\n",
      "i: 74: 0.5010370352709752\n",
      "i: 82: 0.49931862605494354\n",
      "i: 90: 0.49979849758036443\n",
      "i: 67: 0.5009358930466311\n",
      "i: 75: 0.5051910014941936\n",
      "i: 83: 0.5033156648450503\n",
      "i: 91: 0.49491756032527445\n",
      "i: 68: 0.5030031294628722\n",
      "i: 76: 0.49602694037084283\n",
      "i: 84: 0.5038321175687023\n",
      "i: 92: 0.5051285121008614\n",
      "i: 69: 0.5035327212134427\n",
      "i: 77: 0.4996118090100333\n",
      "i: 85: 0.5016323885244671\n",
      "i: 93: 0.49969566344641003\n",
      "i: 70: 0.5009804610478087\n",
      "i: 78: 0.5039252529403973\n",
      "i: 86: 0.49610426713030953\n",
      "i: 94: 0.5010629782172089\n",
      "i: 71: 0.5009207584320249\n",
      "i: 79: 0.500517745384545\n",
      "i: 87: 0.4991375164241225\n",
      "i: 95: 0.49840619470127834\n",
      "i: 96: 0.5070491272149431\n",
      "i: 104: 0.501111245738127\n",
      "i: 120: 0.4979225348301466\n",
      "i: 112: 0.5017041732948732\n",
      "i: 97: 0.5032271530281234\n",
      "i: 105: 0.5027766234347325\n",
      "i: 121: 0.4996613496911872\n",
      "i: 113: 0.5042883122511058\n",
      "i: 98: 0.5042111650835416\n",
      "i: 106: 0.49961428715136386\n",
      "i: 122: 0.5022848476827715\n",
      "i: 114: 0.49985075486767605\n",
      "i: 99: 0.49786127622533105\n",
      "i: 107: 0.5058435602439462\n",
      "i: 123: 0.504812192298889\n",
      "i: 115: 0.5007991400753143\n",
      "i: 100: 0.5030988120506003\n",
      "i: 108: 0.49862933818254596\n",
      "i: 124: 0.5007551296246496\n",
      "i: 116: 0.4976523008428595\n",
      "i: 101: 0.4967115665560003\n",
      "i: 109: 0.5037798902354942\n",
      "i: 125: 0.5013809620781672\n",
      "i: 117: 0.4985119766292136\n",
      "i: 102: 0.5033046907897275\n",
      "i: 110: 0.5019592301788731\n",
      "i: 126: 0.49891463626460353\n",
      "i: 118: 0.5061110237714177\n",
      "i: 103: 0.4969990770452722\n",
      "i: 111: 0.49783875100611397\n",
      "i: 127: 0.4986337154095658\n",
      "i: 119: 0.4999981629034993\n"
     ]
    }
   ],
   "source": [
    "a = classify_all_nums()"
   ]
  },
  {
   "cell_type": "code",
   "execution_count": 8,
   "id": "3e348547",
   "metadata": {
    "_kg_hide-input": true,
    "_kg_hide-output": true,
    "execution": {
     "iopub.execute_input": "2024-04-25T22:23:43.458554Z",
     "iopub.status.busy": "2024-04-25T22:23:43.458078Z",
     "iopub.status.idle": "2024-04-25T22:23:54.231618Z",
     "shell.execute_reply": "2024-04-25T22:23:54.230680Z"
    },
    "papermill": {
     "duration": 10.942672,
     "end_time": "2024-04-25T22:23:54.234156",
     "exception": false,
     "start_time": "2024-04-25T22:23:43.291484",
     "status": "completed"
    },
    "tags": []
   },
   "outputs": [
    {
     "name": "stderr",
     "output_type": "stream",
     "text": [
      "/tmp/ipykernel_18/3281820150.py:11: MatplotlibDeprecationWarning: The get_cmap function was deprecated in Matplotlib 3.7 and will be removed two minor releases later. Use ``matplotlib.colormaps[name]`` or ``matplotlib.colormaps.get_cmap(obj)`` instead.\n",
      "  v = cm.get_cmap('viridis', 5)\n"
     ]
    },
    {
     "data": {
      "image/png": "[encoded data removed]",
      "text/plain": [
       "<Figure size 3200x1600 with 128 Axes>"
      ]
     },
     "metadata": {},
     "output_type": "display_data"
    }
   ],
   "source": [
    "from matplotlib import cm\n",
    "from matplotlib.colors import ListedColormap,LinearSegmentedColormap\n",
    "\n",
    "a = np.array(a)\n",
    "num_matrices = a.shape[0]\n",
    "rows = 8\n",
    "cols = num_matrices // rows if num_matrices % rows == 0 else num_matrices // rows + 1  # Number of columns\n",
    "\n",
    "fig, axes = plt.subplots(rows, cols, figsize=(cols * 2, rows * 2))\n",
    "\n",
    "v = cm.get_cmap('viridis', 5)\n",
    "for i in range(num_matrices):\n",
    "    row = i // cols\n",
    "    col = i % cols\n",
    "    \n",
    "    axes[row, col].imshow(a[i], cmap=v)\n",
    "    axes[row, col].set_title(f'Matrix {i}')\n",
    "    axes[row, col].axis('off')\n",
    "\n",
    "# Adjust layout to prevent overlap\n",
    "plt.tight_layout()\n",
    "plt.show()\n",
    "\n"
   ]
  },
  {
   "cell_type": "code",
   "execution_count": 9,
   "id": "39268588",
   "metadata": {
    "execution": {
     "iopub.execute_input": "2024-04-25T22:23:54.570442Z",
     "iopub.status.busy": "2024-04-25T22:23:54.570042Z",
     "iopub.status.idle": "2024-04-25T22:23:54.579798Z",
     "shell.execute_reply": "2024-04-25T22:23:54.578829Z"
    },
    "papermill": {
     "duration": 0.1802,
     "end_time": "2024-04-25T22:23:54.582373",
     "exception": false,
     "start_time": "2024-04-25T22:23:54.402173",
     "status": "completed"
    },
    "tags": []
   },
   "outputs": [
    {
     "name": "stdout",
     "output_type": "stream",
     "text": [
      "Max accuracy for 1 and 0 is 0.5533822330888346 at channel 16\n",
      "Max accuracy for 2 and 0 is 0.5493079584775087 at channel 47\n",
      "Max accuracy for 2 and 1 is 0.5437448896156991 at channel 84\n",
      "Max accuracy for 3 and 0 is 0.5317324185248714 at channel 107\n",
      "Max accuracy for 3 and 1 is 0.5445705024311183 at channel 42\n",
      "Max accuracy for 3 and 2 is 0.53184165232358 at channel 28\n",
      "Max accuracy for 4 and 0 is 0.5304347826086957 at channel 108\n",
      "Max accuracy for 4 and 1 is 0.5439605587510271 at channel 36\n",
      "Max accuracy for 4 and 2 is 0.5388646288209606 at channel 67\n",
      "Max accuracy for 4 and 3 is 0.5363321799307958 at channel 91\n",
      "Max accuracy for 5 and 0 is 0.5398388540734109 at channel 69\n",
      "Max accuracy for 5 and 1 is 0.5464527027027027 at channel 100\n",
      "Max accuracy for 5 and 2 is 0.5359712230215827 at channel 33\n",
      "Max accuracy for 5 and 3 is 0.5360641139804097 at channel 23\n",
      "Max accuracy for 5 and 4 is 0.5415913200723327 at channel 72\n",
      "Max accuracy for 6 and 0 is 0.5410544511668107 at channel 17\n",
      "Max accuracy for 6 and 1 is 0.5334967320261438 at channel 66\n",
      "Max accuracy for 6 and 2 is 0.5338541666666666 at channel 100\n",
      "Max accuracy for 6 and 3 is 0.5408426483233018 at channel 34\n",
      "Max accuracy for 6 and 4 is 0.5427574171029669 at channel 57\n",
      "Max accuracy for 6 and 5 is 0.5408805031446541 at channel 123\n",
      "Max accuracy for 7 and 0 is 0.5347862531433362 at channel 2\n",
      "Max accuracy for 7 and 1 is 0.5341269841269841 at channel 3\n",
      "Max accuracy for 7 and 2 is 0.5437710437710438 at channel 19\n",
      "Max accuracy for 7 and 3 is 0.5429524603836531 at channel 5\n",
      "Max accuracy for 7 and 4 is 0.5414551607445008 at channel 81\n",
      "Max accuracy for 7 and 5 is 0.5413402959094865 at channel 83\n",
      "Max accuracy for 7 and 6 is 0.5319327731092437 at channel 26\n",
      "Max accuracy for 8 and 0 is 0.5459363957597173 at channel 13\n",
      "Max accuracy for 8 and 1 is 0.5437864887406172 at channel 46\n",
      "Max accuracy for 8 and 2 is 0.5394853593611357 at channel 20\n",
      "Max accuracy for 8 and 3 is 0.5377855887521968 at channel 7\n",
      "Max accuracy for 8 and 4 is 0.5361284567350579 at channel 37\n",
      "Max accuracy for 8 and 5 is 0.5340073529411765 at channel 10\n",
      "Max accuracy for 8 and 6 is 0.5372340425531915 at channel 37\n",
      "Max accuracy for 8 and 7 is 0.5360824742268041 at channel 97\n",
      "Max accuracy for 9 and 0 is 0.5379310344827586 at channel 54\n",
      "Max accuracy for 9 and 1 is 0.5419722901385493 at channel 71\n",
      "Max accuracy for 9 and 2 is 0.5411255411255411 at channel 41\n",
      "Max accuracy for 9 and 3 is 0.5334476843910806 at channel 27\n",
      "Max accuracy for 9 and 4 is 0.5300261096605744 at channel 58\n",
      "Max accuracy for 9 and 5 is 0.543010752688172 at channel 50\n",
      "Max accuracy for 9 and 6 is 0.5289541918755402 at channel 38\n",
      "Max accuracy for 9 and 7 is 0.539815590947192 at channel 24\n",
      "Max accuracy for 9 and 8 is 0.5428824049513705 at channel 70\n",
      "45\n",
      "43\n",
      "{2, 3, 5, 7, 10, 13, 16, 17, 19, 20, 23, 24, 26, 27, 28, 33, 34, 36, 37, 38, 41, 42, 46, 47, 50, 54, 57, 58, 66, 67, 69, 70, 71, 72, 81, 83, 84, 91, 97, 100, 107, 108, 123}\n"
     ]
    }
   ],
   "source": [
    "best = []\n",
    "for i in range(10):\n",
    "    for j in range(10):\n",
    "        if i == j:\n",
    "            break\n",
    "        max = np.max(a[:,i,j])\n",
    "        index = np.argmax(a[:,i,j])\n",
    "        best.append(index)\n",
    "        print(f\"Max accuracy for {i} and {j} is {max} at channel {index}\")\n",
    "print(len(best))\n",
    "bset = set(best)\n",
    "print(len(bset))\n",
    "print(bset)"
   ]
  },
  {
   "cell_type": "code",
   "execution_count": 10,
   "id": "b6304acf",
   "metadata": {
    "execution": {
     "iopub.execute_input": "2024-04-25T22:23:54.916993Z",
     "iopub.status.busy": "2024-04-25T22:23:54.915886Z",
     "iopub.status.idle": "2024-04-25T22:23:54.926574Z",
     "shell.execute_reply": "2024-04-25T22:23:54.925380Z"
    },
    "papermill": {
     "duration": 0.180777,
     "end_time": "2024-04-25T22:23:54.928760",
     "exception": false,
     "start_time": "2024-04-25T22:23:54.747983",
     "status": "completed"
    },
    "tags": []
   },
   "outputs": [
    {
     "name": "stdout",
     "output_type": "stream",
     "text": [
      "[8, 12, 21, 1, 92, 6, 29, 19, 110, 39, 98, 73, 72, 30, 66, 80]\n"
     ]
    }
   ],
   "source": [
    "# get the 16 channels with the highest accuracy\n",
    "channels = []\n",
    "temp = []\n",
    "for t in a:\n",
    "    temp.append(np.mean(t))\n",
    "\n",
    "temp = np.array(temp)\n",
    "    \n",
    "for i in range(16):\n",
    "    m = np.max(temp)\n",
    "    index = np.argmax(temp)\n",
    "    channels.append(index)\n",
    "    temp = temp[temp != m]\n",
    "print(channels)"
   ]
  },
  {
   "cell_type": "code",
   "execution_count": 11,
   "id": "51a87abe",
   "metadata": {
    "execution": {
     "iopub.execute_input": "2024-04-25T22:23:55.266692Z",
     "iopub.status.busy": "2024-04-25T22:23:55.266236Z",
     "iopub.status.idle": "2024-04-25T22:23:55.272901Z",
     "shell.execute_reply": "2024-04-25T22:23:55.271747Z"
    },
    "papermill": {
     "duration": 0.181295,
     "end_time": "2024-04-25T22:23:55.275321",
     "exception": false,
     "start_time": "2024-04-25T22:23:55.094026",
     "status": "completed"
    },
    "tags": []
   },
   "outputs": [
    {
     "name": "stdout",
     "output_type": "stream",
     "text": [
      "56\n",
      "{1, 2, 3, 5, 6, 7, 8, 10, 12, 13, 16, 17, 19, 20, 21, 23, 24, 26, 27, 28, 29, 30, 33, 34, 36, 37, 38, 39, 41, 42, 46, 47, 50, 54, 57, 58, 66, 67, 69, 70, 71, 72, 73, 80, 81, 83, 84, 91, 92, 97, 98, 100, 107, 108, 110, 123}\n"
     ]
    }
   ],
   "source": [
    "for c in channels:\n",
    "    best.append(c)\n",
    "bset = set(best)\n",
    "print(len(bset))\n",
    "print(bset)"
   ]
  },
  {
   "cell_type": "code",
   "execution_count": 12,
   "id": "a4c238e2",
   "metadata": {
    "execution": {
     "iopub.execute_input": "2024-04-25T22:23:55.613824Z",
     "iopub.status.busy": "2024-04-25T22:23:55.613049Z",
     "iopub.status.idle": "2024-04-25T22:23:55.631173Z",
     "shell.execute_reply": "2024-04-25T22:23:55.630005Z"
    },
    "papermill": {
     "duration": 0.191508,
     "end_time": "2024-04-25T22:23:55.633595",
     "exception": false,
     "start_time": "2024-04-25T22:23:55.442087",
     "status": "completed"
    },
    "tags": []
   },
   "outputs": [
    {
     "name": "stdout",
     "output_type": "stream",
     "text": [
      "Class 0 has 2899 samples, class 1 has 3236 samples\n",
      "Ratio is 0.8958590852904821\n",
      "Class 0 has 2899 samples, class 2 has 2877 samples\n",
      "Ratio is 1.0076468543621828\n",
      "Class 0 has 2899 samples, class 3 has 2931 samples\n",
      "Ratio is 0.9890822244967588\n",
      "Class 0 has 2899 samples, class 4 has 2847 samples\n",
      "Ratio is 1.0182648401826484\n",
      "Class 0 has 2899 samples, class 5 has 2682 samples\n",
      "Ratio is 1.080909768829232\n",
      "Class 0 has 2899 samples, class 6 has 2883 samples\n",
      "Ratio is 1.0055497745404094\n",
      "Class 0 has 2899 samples, class 7 has 3063 samples\n",
      "Ratio is 0.9464577211883775\n",
      "Class 0 has 2899 samples, class 8 has 2757 samples\n",
      "Ratio is 1.0515052593398622\n",
      "Class 0 has 2899 samples, class 9 has 2898 samples\n",
      "Ratio is 1.0003450655624568\n",
      "Class 1 has 3236 samples, class 2 has 2877 samples\n",
      "Ratio is 1.1247827598192561\n",
      "Class 1 has 3236 samples, class 3 has 2931 samples\n",
      "Ratio is 1.1040600477652678\n",
      "Class 1 has 3236 samples, class 4 has 2847 samples\n",
      "Ratio is 1.1366350544432737\n",
      "Class 1 has 3236 samples, class 5 has 2682 samples\n",
      "Ratio is 1.2065622669649516\n",
      "Class 1 has 3236 samples, class 6 has 2883 samples\n",
      "Ratio is 1.1224419007977802\n",
      "Class 1 has 3236 samples, class 7 has 3063 samples\n",
      "Ratio is 1.0564805746000654\n",
      "Class 1 has 3236 samples, class 8 has 2757 samples\n",
      "Ratio is 1.173739571998549\n",
      "Class 1 has 3236 samples, class 9 has 2898 samples\n",
      "Ratio is 1.116632160110421\n",
      "Class 2 has 2877 samples, class 3 has 2931 samples\n",
      "Ratio is 0.9815762538382804\n",
      "Class 2 has 2877 samples, class 4 has 2847 samples\n",
      "Ratio is 1.0105374077976819\n",
      "Class 2 has 2877 samples, class 5 has 2682 samples\n",
      "Ratio is 1.0727069351230425\n",
      "Class 2 has 2877 samples, class 6 has 2883 samples\n",
      "Ratio is 0.9979188345473465\n",
      "Class 2 has 2877 samples, class 7 has 3063 samples\n",
      "Ratio is 0.9392752203721841\n",
      "Class 2 has 2877 samples, class 8 has 2757 samples\n",
      "Ratio is 1.043525571273123\n",
      "Class 2 has 2877 samples, class 9 has 2898 samples\n",
      "Ratio is 0.9927536231884058\n",
      "Class 3 has 2931 samples, class 4 has 2847 samples\n",
      "Ratio is 1.029504741833509\n",
      "Class 3 has 2931 samples, class 5 has 2682 samples\n",
      "Ratio is 1.092841163310962\n",
      "Class 3 has 2931 samples, class 6 has 2883 samples\n",
      "Ratio is 1.016649323621228\n",
      "Class 3 has 2931 samples, class 7 has 3063 samples\n",
      "Ratio is 0.9569049951028403\n",
      "Class 3 has 2931 samples, class 8 has 2757 samples\n",
      "Ratio is 1.0631120783460284\n",
      "Class 3 has 2931 samples, class 9 has 2898 samples\n",
      "Ratio is 1.0113871635610765\n",
      "Class 4 has 2847 samples, class 5 has 2682 samples\n",
      "Ratio is 1.0615212527964206\n",
      "Class 4 has 2847 samples, class 6 has 2883 samples\n",
      "Ratio is 0.9875130072840791\n",
      "Class 4 has 2847 samples, class 7 has 3063 samples\n",
      "Ratio is 0.9294809010773751\n",
      "Class 4 has 2847 samples, class 8 has 2757 samples\n",
      "Ratio is 1.0326441784548421\n",
      "Class 4 has 2847 samples, class 9 has 2898 samples\n",
      "Ratio is 0.9824016563146998\n",
      "Class 5 has 2682 samples, class 6 has 2883 samples\n",
      "Ratio is 0.9302809573361083\n",
      "Class 5 has 2682 samples, class 7 has 3063 samples\n",
      "Ratio is 0.8756121449559255\n",
      "Class 5 has 2682 samples, class 8 has 2757 samples\n",
      "Ratio is 0.9727965179542981\n",
      "Class 5 has 2682 samples, class 9 has 2898 samples\n",
      "Ratio is 0.9254658385093167\n",
      "Class 6 has 2883 samples, class 7 has 3063 samples\n",
      "Ratio is 0.941234084231146\n",
      "Class 6 has 2883 samples, class 8 has 2757 samples\n",
      "Ratio is 1.0457018498367792\n",
      "Class 6 has 2883 samples, class 9 has 2898 samples\n",
      "Ratio is 0.994824016563147\n",
      "Class 7 has 3063 samples, class 8 has 2757 samples\n",
      "Ratio is 1.1109902067464636\n",
      "Class 7 has 3063 samples, class 9 has 2898 samples\n",
      "Ratio is 1.056935817805383\n",
      "Class 8 has 2757 samples, class 9 has 2898 samples\n",
      "Ratio is 0.9513457556935818\n"
     ]
    }
   ],
   "source": [
    "for c in combinations([0, 1, 2, 3, 4, 5, 6, 7, 8, 9], 2):\n",
    "    x, y = c\n",
    "    i = labels[labels==x].shape[0]\n",
    "    j = labels[labels==y].shape[0]\n",
    "    print(f\"Class {x} has {i} samples, class {y} has {j} samples\")\n",
    "    print(f\"Ratio is {i/j}\")"
   ]
  }
 ],
 "metadata": {
  "kaggle": {
   "accelerator": "none",
   "dataSources": [
    {
     "datasetId": 4861440,
     "sourceId": 8205004,
     "sourceType": "datasetVersion"
    },
    {
     "datasetId": 4880596,
     "sourceId": 8230093,
     "sourceType": "datasetVersion"
    }
   ],
   "dockerImageVersionId": 30698,
   "isGpuEnabled": false,
   "isInternetEnabled": true,
   "language": "python",
   "sourceType": "notebook"
  },
  "kernelspec": {
   "display_name": "Python 3",
   "language": "python",
   "name": "python3"
  },
  "language_info": {
   "codemirror_mode": {
    "name": "ipython",
    "version": 3
   },
   "file_extension": ".py",
   "mimetype": "text/x-python",
   "name": "python",
   "nbconvert_exporter": "python",
   "pygments_lexer": "ipython3",
   "version": "3.10.13"
  },
  "papermill": {
   "default_parameters": {},
   "duration": 3044.61674,
   "end_time": "2024-04-25T22:23:57.032913",
   "environment_variables": {},
   "exception": null,
   "input_path": "__notebook__.ipynb",
   "output_path": "__notebook__.ipynb",
   "parameters": {},
   "start_time": "2024-04-25T21:33:12.416173",
   "version": "2.5.0"
  }
 },
 "nbformat": 4,
 "nbformat_minor": 5
}
