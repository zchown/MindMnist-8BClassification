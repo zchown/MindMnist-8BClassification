{
 "cells": [
  {
   "cell_type": "code",
   "execution_count": 1,
   "id": "4434625c",
   "metadata": {
    "_cell_guid": "b1076dfc-b9ad-4769-8c92-a6c4dae69d19",
    "_uuid": "8f2839f25d086af736a60e9eeb907d3b93b6e0e5",
    "execution": {
     "iopub.execute_input": "2024-05-03T01:12:55.029906Z",
     "iopub.status.busy": "2024-05-03T01:12:55.029379Z",
     "iopub.status.idle": "2024-05-03T01:12:56.256835Z",
     "shell.execute_reply": "2024-05-03T01:12:56.255773Z"
    },
    "papermill": {
     "duration": 1.236227,
     "end_time": "2024-05-03T01:12:56.259736",
     "exception": false,
     "start_time": "2024-05-03T01:12:55.023509",
     "status": "completed"
    },
    "tags": []
   },
   "outputs": [],
   "source": [
    "import numpy as np\n",
    "import pandas as pd\n",
    "from tqdm import tqdm\n",
    "import matplotlib.pyplot as plt\n",
    "import scipy.fft as fft"
   ]
  },
  {
   "cell_type": "code",
   "execution_count": 2,
   "id": "97634cfa",
   "metadata": {
    "execution": {
     "iopub.execute_input": "2024-05-03T01:12:56.269053Z",
     "iopub.status.busy": "2024-05-03T01:12:56.268546Z",
     "iopub.status.idle": "2024-05-03T01:12:56.278043Z",
     "shell.execute_reply": "2024-05-03T01:12:56.276913Z"
    },
    "papermill": {
     "duration": 0.016651,
     "end_time": "2024-05-03T01:12:56.280346",
     "exception": false,
     "start_time": "2024-05-03T01:12:56.263695",
     "status": "completed"
    },
    "tags": []
   },
   "outputs": [],
   "source": [
    "electrode_names = [\n",
    "    \"FP1\", \"FPz\", \"FP2\", \"AFp1\", \"AFPz\", \"AFp2\", \"AF7\", \"AF3\", \"AF4\", \"AF8\",\n",
    "    \"AFF5h\", \"AFF1h\", \"AFF2h\", \"AFF6h\", \"F9\", \"F7\", \"F5\", \"F3\", \"F1\", \"Fz\",\n",
    "    \"F2\", \"F4\", \"F6\", \"F8\", \"F10\", \"FFT9h\", \"FFT7h\", \"FFC5h\", \"FFC3h\", \"FFC1h\",\n",
    "    \"FFC2h\", \"FFC4h\", \"FFC6h\", \"FFT8h\", \"FFT10h\", \"FT9\", \"FT7\", \"FC5\", \"FC3\",\n",
    "    \"FC1\", \"FCz\", \"FC2\", \"FC4\", \"FC6\", \"FT8\", \"FT10\", \"FTT9h\", \"FTT7h\", \"FCC5h\",\n",
    "    \"FCC3h\", \"FCC1h\", \"FCC2h\", \"FCC4h\", \"FCC6h\", \"FTT8h\", \"FTT10h\", \"T7\", \"C5\",\n",
    "    \"C3\", \"C1\", \"Cz\", \"C2\", \"C4\", \"C6\", \"T8\", \"TTP7h\", \"CCP5h\", \"CCP3h\", \"CCP1h\",\n",
    "    \"CCP2h\", \"CCP4h\", \"CCP6h\", \"TTP8h\", \"TP9\", \"TP7\", \"CP5\", \"CP3\", \"Cpz\", \"CP4\",\n",
    "    \"CP6\", \"TP8\", \"TP10\", \"TPP9h\", \"TPP7h\", \"CPP5h\", \"CPP3h\", \"CPP1h\", \"CPP2h\",\n",
    "    \"CPP4h\", \"CPP6h\", \"TPP8h\", \"TPP10h\", \"P9\", \"P7\", \"P5\", \"P3\", \"P1\", \"Pz\", \"P2\",\n",
    "    \"P4\", \"P6\", \"P8\", \"P10\", \"PPO9h\", \"PPO5h\", \"PPO1h\", \"PPO2h\", \"PPO6h\", \"PPO10h\",\n",
    "    \"PO9\", \"PO7\", \"PO3\", \"POz\", \"PO4\", \"PO8\", \"PO10\", \"POO9h\", \"POO1\", \"POO2\",\n",
    "    \"POO10h\", \"O1\", \"Oz\", \"O2\", \"OI1h\", \"OI2h\", \"I1\", \"Iz\", \"I2\"\n",
    "]\n",
    "\n",
    "num_electrodes = len(electrode_names)\n",
    "\n",
    "num_electrodes\n",
    "NUM_CHANNELS_TO_LOAD = 128\n",
    "DATA_SIZE = 60_000\n",
    "SIGNAL_LENGTH = 167"
   ]
  },
  {
   "cell_type": "code",
   "execution_count": 3,
   "id": "ad999eaa",
   "metadata": {
    "execution": {
     "iopub.execute_input": "2024-05-03T01:12:56.288983Z",
     "iopub.status.busy": "2024-05-03T01:12:56.288609Z",
     "iopub.status.idle": "2024-05-03T01:12:56.298703Z",
     "shell.execute_reply": "2024-05-03T01:12:56.297601Z"
    },
    "papermill": {
     "duration": 0.017463,
     "end_time": "2024-05-03T01:12:56.301466",
     "exception": false,
     "start_time": "2024-05-03T01:12:56.284003",
     "status": "completed"
    },
    "tags": []
   },
   "outputs": [],
   "source": [
    "labels = np.zeros(DATA_SIZE, dtype=int)\n",
    "data = np.zeros((DATA_SIZE, NUM_CHANNELS_TO_LOAD, SIGNAL_LENGTH))\n",
    "\n",
    "def data_selection():\n",
    "    class_means = np.zeros((10, 128, 167))\n",
    "    for i in tqdm(range(10)):\n",
    "        class_means[i] = np.mean(data[labels == i], axis=0)\n",
    "    z = np.zeros(DATA_SIZE)\n",
    "    for i in tqdm(range(DATA_SIZE)):\n",
    "        j = labels[i]\n",
    "        x = data[i]\n",
    "        z[i] = np.corrcoef(x, class_means[j])[0][1]\n",
    "    return z\n",
    "\n",
    "def load_channel(channel: int, cz: int):\n",
    "    i = 0\n",
    "    csize = cz\n",
    "    for chunk in tqdm(pd.read_csv('/kaggle/input/processed-train/processed_train.csv', chunksize=cz)):\n",
    "        labels[i*csize:(i+1)*csize] = chunk['label'].to_numpy()\n",
    "        data[i*csize:(i+1)*csize] = chunk.iloc[0:csize, :-2].to_numpy().reshape((csize,NUM_CHANNELS_TO_LOAD,SIGNAL_LENGTH))[:,channel:channel+NUM_CHANNELS_TO_LOAD,:].reshape((csize, NUM_CHANNELS_TO_LOAD, SIGNAL_LENGTH))\n",
    "        i = i + 1\n",
    "        if i == (DATA_SIZE / csize):\n",
    "            break\n",
    "    \n",
    "        "
   ]
  },
  {
   "cell_type": "code",
   "execution_count": 4,
   "id": "901d6ab9",
   "metadata": {
    "execution": {
     "iopub.execute_input": "2024-05-03T01:12:56.310304Z",
     "iopub.status.busy": "2024-05-03T01:12:56.309950Z",
     "iopub.status.idle": "2024-05-03T01:12:57.396762Z",
     "shell.execute_reply": "2024-05-03T01:12:57.395459Z"
    },
    "papermill": {
     "duration": 1.094793,
     "end_time": "2024-05-03T01:12:57.399800",
     "exception": false,
     "start_time": "2024-05-03T01:12:56.305007",
     "status": "completed"
    },
    "tags": []
   },
   "outputs": [],
   "source": [
    "from sklearn.model_selection import train_test_split\n",
    "from sklearn.neighbors import KNeighborsClassifier\n",
    "from sklearn.metrics import accuracy_score\n",
    "from multiprocessing import Pool, Pipe\n",
    "from itertools import combinations\n",
    "\n",
    "n_neighbors = 109\n",
    "\n",
    "def do_work(i):\n",
    "    nums = [0, 1, 2, 3, 4, 5, 6, 7, 8, 9]\n",
    "    result = np.zeros((10,10))\n",
    "    for e, x in enumerate(combinations(nums, 2)):\n",
    "        j, l = x\n",
    "        y = labels[(labels == j) | (labels == l)]\n",
    "        d = data[(labels == j) | (labels == l)]\n",
    "        X_train, X_test, y_train, y_test = train_test_split(d[:,i,:], y, test_size=0.2, random_state=42)\n",
    "        knn = KNeighborsClassifier(n_neighbors=n_neighbors, weights='distance')\n",
    "        knn.fit(X_train, y_train)\n",
    "        y_pred = knn.predict(X_test)\n",
    "        a = accuracy_score(y_test, y_pred)\n",
    "        result[j, l] = a\n",
    "        result[l, j] = a\n",
    "    r = result.flatten()\n",
    "    r = r[r != 0]\n",
    "    print(\"i: \" + str(i) + \": \" + str(np.mean(r)))\n",
    "    return result\n",
    "\n",
    "\n",
    "def classify_all_nums():\n",
    "    with Pool() as pool:\n",
    "        accuracies = pool.map(do_work, range(NUM_CHANNELS_TO_LOAD))\n",
    "    return accuracies\n",
    "\n"
   ]
  },
  {
   "cell_type": "code",
   "execution_count": 5,
   "id": "ca49cd2a",
   "metadata": {
    "execution": {
     "iopub.execute_input": "2024-05-03T01:12:57.409096Z",
     "iopub.status.busy": "2024-05-03T01:12:57.408681Z",
     "iopub.status.idle": "2024-05-03T01:21:58.127318Z",
     "shell.execute_reply": "2024-05-03T01:21:58.126038Z"
    },
    "papermill": {
     "duration": 540.729015,
     "end_time": "2024-05-03T01:21:58.132723",
     "exception": false,
     "start_time": "2024-05-03T01:12:57.403708",
     "status": "completed"
    },
    "tags": []
   },
   "outputs": [
    {
     "name": "stderr",
     "output_type": "stream",
     "text": [
      "59it [09:00,  9.16s/it]\n"
     ]
    }
   ],
   "source": [
    "load_channel(0, 1000)"
   ]
  },
  {
   "cell_type": "code",
   "execution_count": 6,
   "id": "a9483a30",
   "metadata": {
    "execution": {
     "iopub.execute_input": "2024-05-03T01:21:58.150456Z",
     "iopub.status.busy": "2024-05-03T01:21:58.149963Z",
     "iopub.status.idle": "2024-05-03T01:23:50.955075Z",
     "shell.execute_reply": "2024-05-03T01:23:50.953650Z"
    },
    "papermill": {
     "duration": 112.817127,
     "end_time": "2024-05-03T01:23:50.957670",
     "exception": false,
     "start_time": "2024-05-03T01:21:58.140543",
     "status": "completed"
    },
    "tags": []
   },
   "outputs": [
    {
     "name": "stderr",
     "output_type": "stream",
     "text": [
      "100%|██████████| 10/10 [00:05<00:00,  1.90it/s]\n",
      "  0%|          | 0/60000 [00:00<?, ?it/s]/opt/conda/lib/python3.10/site-packages/numpy/lib/function_base.py:2897: RuntimeWarning: invalid value encountered in divide\n",
      "  c /= stddev[:, None]\n",
      "/opt/conda/lib/python3.10/site-packages/numpy/lib/function_base.py:2898: RuntimeWarning: invalid value encountered in divide\n",
      "  c /= stddev[None, :]\n",
      "100%|██████████| 60000/60000 [01:45<00:00, 566.92it/s]\n"
     ]
    },
    {
     "name": "stdout",
     "output_type": "stream",
     "text": [
      "(16120, 128, 167)\n"
     ]
    }
   ],
   "source": [
    "z = data_selection()\n",
    "data = data[z >= 0.3]\n",
    "print(data.shape)\n",
    "labels = labels[z >= 0.3]\n"
   ]
  },
  {
   "cell_type": "code",
   "execution_count": 7,
   "id": "3f5f4129",
   "metadata": {
    "execution": {
     "iopub.execute_input": "2024-05-03T01:23:51.108850Z",
     "iopub.status.busy": "2024-05-03T01:23:51.108416Z",
     "iopub.status.idle": "2024-05-03T01:45:20.443769Z",
     "shell.execute_reply": "2024-05-03T01:45:20.441679Z"
    },
    "papermill": {
     "duration": 1289.413948,
     "end_time": "2024-05-03T01:45:20.446762",
     "exception": false,
     "start_time": "2024-05-03T01:23:51.032814",
     "status": "completed"
    },
    "tags": []
   },
   "outputs": [
    {
     "name": "stdout",
     "output_type": "stream",
     "text": [
      "i: 0: 0.5019702724408707\n",
      "i: 8: 0.5011611714112111\n",
      "i: 24: 0.4997452393205714\n",
      "i: 16: 0.5020625131638378\n",
      "i: 25: 0.5029481186877629\n",
      "i: 9: 0.505924385722849\n",
      "i: 1: 0.5003909977556847\n",
      "i: 17: 0.4966308032566476\n",
      "i: 26: 0.504591077470586\n",
      "i: 10: 0.5039545457772335\n",
      "i: 18: 0.5001868494362778\n",
      "i: 2: 0.5032459177607498\n",
      "i: 11: 0.49922883788016276\n",
      "i: 27: 0.4991293724857511\n",
      "i: 3: 0.5036211058476404\n",
      "i: 19: 0.49755027551944053\n",
      "i: 28: 0.4956344745726523\n",
      "i: 12: 0.507739289978121\n",
      "i: 20: 0.4990544108157036\n",
      "i: 4: 0.5033386525414425\n",
      "i: 29: 0.5016003373735781\n",
      "i: 21: 0.4989545617876413\n",
      "i: 13: 0.5052931129148132\n",
      "i: 5: 0.5030465197759275\n",
      "i: 22: 0.4925810232631329\n",
      "i: 30: 0.5029539195839473\n",
      "i: 14: 0.5019166260809855\n",
      "i: 6: 0.4975131528988074\n",
      "i: 23: 0.5041470765589229\n",
      "i: 31: 0.4955695813250606\n",
      "i: 7: 0.503448949711097\n",
      "i: 15: 0.5006555934322124\n",
      "i: 32: 0.494148193008028\n",
      "i: 40: 0.49826574837769805\n",
      "i: 48: 0.49776813710640005\n",
      "i: 56: 0.4994098005056437\n",
      "i: 33: 0.5034457532260675\n",
      "i: 41: 0.5014898869296069\n",
      "i: 49: 0.5024922966737122\n",
      "i: 57: 0.49222506070833016\n",
      "i: 42: 0.49662862873509256\n",
      "i: 34: 0.5046279312423607\n",
      "i: 50: 0.49473101767179983\n",
      "i: 58: 0.5063586219255636\n",
      "i: 43: 0.5001053378005299\n",
      "i: 35: 0.49568668057263193\n",
      "i: 51: 0.5071218022247079\n",
      "i: 59: 0.5030030106052962\n",
      "i: 44: 0.49836966390593734\n",
      "i: 36: 0.4988878436983202\n",
      "i: 52: 0.49817278421565314\n",
      "i: 60: 0.5117643621478812\n",
      "i: 45: 0.4997415508893472\n",
      "i: 37: 0.5003951729522657\n",
      "i: 53: 0.4978915513719896\n",
      "i: 61: 0.49982248388572315\n",
      "i: 46: 0.5038371169789067\n",
      "i: 38: 0.5053285257991342\n",
      "i: 54: 0.49543239854155074\n",
      "i: 62: 0.5011145576876753\n",
      "i: 47: 0.49933423279640793\n",
      "i: 39: 0.49775847097035486\n",
      "i: 55: 0.49993078516961376\n",
      "i: 63: 0.49839460630859617\n",
      "i: 64: 0.49498694060263065\n",
      "i: 72: 0.499089685971084\n",
      "i: 88: 0.4982488037380278\n",
      "i: 80: 0.5087887450567147\n",
      "i: 65: 0.5020076002721447\n",
      "i: 73: 0.49720150480527037\n",
      "i: 89: 0.5068513318130567\n",
      "i: 81: 0.49404434751949844\n",
      "i: 66: 0.5033663655851798\n",
      "i: 74: 0.499975650476317\n",
      "i: 90: 0.5037229291206717\n",
      "i: 82: 0.504581252638788\n",
      "i: 67: 0.5048778413029434\n",
      "i: 75: 0.4989106428188906\n",
      "i: 91: 0.502481731342785\n",
      "i: 83: 0.4909329809864345\n",
      "i: 68: 0.5024097963492552\n",
      "i: 76: 0.5022803381692821\n",
      "i: 92: 0.5014366191544442\n",
      "i: 84: 0.49445850843068845\n",
      "i: 69: 0.4996203236110654\n",
      "i: 77: 0.49703728616619974\n",
      "i: 93: 0.4983892269720039\n",
      "i: 85: 0.4999201913049634\n",
      "i: 70: 0.4954502567645963\n",
      "i: 78: 0.5040277632093784\n",
      "i: 86: 0.5027541956312007\n",
      "i: 94: 0.4990737442390849\n",
      "i: 71: 0.4980218195387519\n",
      "i: 79: 0.4980090721746344\n",
      "i: 95: 0.49786300629337193\n",
      "i: 87: 0.499110314482532\n",
      "i: 96: 0.49641265148585734\n",
      "i: 104: 0.4994307573771427\n",
      "i: 112: 0.4986548351410621\n",
      "i: 120: 0.5022333116467732\n",
      "i: 97: 0.503164581607599\n",
      "i: 105: 0.5059828532006667\n",
      "i: 121: 0.4969446994185074\n",
      "i: 113: 0.49576065801121627\n",
      "i: 98: 0.5053389756302438\n",
      "i: 106: 0.5009149558170773\n",
      "i: 122: 0.5052783323247361\n",
      "i: 114: 0.5050163157558667\n",
      "i: 99: 0.5006852988665615\n",
      "i: 107: 0.5002586025030454\n",
      "i: 123: 0.4987676580145809\n",
      "i: 115: 0.504834163546149\n",
      "i: 108: 0.4952283445945028\n",
      "i: 100: 0.49912760156597746\n",
      "i: 124: 0.5040485343161732\n",
      "i: 116: 0.5011536588857701\n",
      "i: 101: 0.5035874717051635\n",
      "i: 109: 0.49839036888186466\n",
      "i: 125: 0.4998359713206422\n",
      "i: 117: 0.4965827240611177\n",
      "i: 102: 0.4954222393761275\n",
      "i: 110: 0.5010700896555229\n",
      "i: 118: 0.50361513181186\n",
      "i: 126: 0.5004226296738723\n",
      "i: 111: 0.4939059516533697\n",
      "i: 103: 0.4997642732398499\n",
      "i: 119: 0.5020575452310323\n",
      "i: 127: 0.502983424244587\n"
     ]
    }
   ],
   "source": [
    "a = classify_all_nums()"
   ]
  },
  {
   "cell_type": "code",
   "execution_count": 8,
   "id": "785c87b8",
   "metadata": {
    "_kg_hide-input": true,
    "_kg_hide-output": true,
    "execution": {
     "iopub.execute_input": "2024-05-03T01:45:20.632121Z",
     "iopub.status.busy": "2024-05-03T01:45:20.631678Z",
     "iopub.status.idle": "2024-05-03T01:45:31.363239Z",
     "shell.execute_reply": "2024-05-03T01:45:31.362085Z"
    },
    "papermill": {
     "duration": 10.828384,
     "end_time": "2024-05-03T01:45:31.366614",
     "exception": false,
     "start_time": "2024-05-03T01:45:20.538230",
     "status": "completed"
    },
    "tags": []
   },
   "outputs": [
    {
     "name": "stderr",
     "output_type": "stream",
     "text": [
      "/tmp/ipykernel_18/3281820150.py:11: MatplotlibDeprecationWarning: The get_cmap function was deprecated in Matplotlib 3.7 and will be removed two minor releases later. Use ``matplotlib.colormaps[name]`` or ``matplotlib.colormaps.get_cmap(obj)`` instead.\n",
      "  v = cm.get_cmap('viridis', 5)\n"
     ]
    },
    {
     "data": {
      "image/png": "[encoded data removed]",
      "text/plain": [
       "<Figure size 3200x1600 with 128 Axes>"
      ]
     },
     "metadata": {},
     "output_type": "display_data"
    }
   ],
   "source": [
    "from matplotlib import cm\n",
    "from matplotlib.colors import ListedColormap,LinearSegmentedColormap\n",
    "\n",
    "a = np.array(a)\n",
    "num_matrices = a.shape[0]\n",
    "rows = 8\n",
    "cols = num_matrices // rows if num_matrices % rows == 0 else num_matrices // rows + 1  # Number of columns\n",
    "\n",
    "fig, axes = plt.subplots(rows, cols, figsize=(cols * 2, rows * 2))\n",
    "\n",
    "v = cm.get_cmap('viridis', 5)\n",
    "for i in range(num_matrices):\n",
    "    row = i // cols\n",
    "    col = i % cols\n",
    "    \n",
    "    axes[row, col].imshow(a[i], cmap=v)\n",
    "    axes[row, col].set_title(f'Matrix {i}')\n",
    "    axes[row, col].axis('off')\n",
    "\n",
    "# Adjust layout to prevent overlap\n",
    "plt.tight_layout()\n",
    "plt.show()\n",
    "\n"
   ]
  },
  {
   "cell_type": "code",
   "execution_count": 9,
   "id": "d9a2f049",
   "metadata": {
    "execution": {
     "iopub.execute_input": "2024-05-03T01:45:31.555012Z",
     "iopub.status.busy": "2024-05-03T01:45:31.554344Z",
     "iopub.status.idle": "2024-05-03T01:45:31.563238Z",
     "shell.execute_reply": "2024-05-03T01:45:31.562144Z"
    },
    "papermill": {
     "duration": 0.10434,
     "end_time": "2024-05-03T01:45:31.566027",
     "exception": false,
     "start_time": "2024-05-03T01:45:31.461687",
     "status": "completed"
    },
    "tags": []
   },
   "outputs": [
    {
     "name": "stdout",
     "output_type": "stream",
     "text": [
      "Max accuracy for 1 and 0 is 0.566066066066066 at channel 33\n",
      "Max accuracy for 2 and 0 is 0.5502392344497608 at channel 24\n",
      "Max accuracy for 2 and 1 is 0.5534124629080118 at channel 25\n",
      "Max accuracy for 3 and 0 is 0.5743348982785602 at channel 27\n",
      "Max accuracy for 3 and 1 is 0.545985401459854 at channel 33\n",
      "Max accuracy for 3 and 2 is 0.5510835913312694 at channel 93\n",
      "Max accuracy for 4 and 0 is 0.5470494417862839 at channel 39\n",
      "Max accuracy for 4 and 1 is 0.5616641901931649 at channel 90\n",
      "Max accuracy for 4 and 2 is 0.5417322834645669 at channel 8\n",
      "Max accuracy for 4 and 3 is 0.5588235294117647 at channel 88\n",
      "Max accuracy for 5 and 0 is 0.5595432300163132 at channel 60\n",
      "Max accuracy for 5 and 1 is 0.5553869499241275 at channel 23\n",
      "Max accuracy for 5 and 2 is 0.5419354838709678 at channel 40\n",
      "Max accuracy for 5 and 3 is 0.5474683544303798 at channel 51\n",
      "Max accuracy for 5 and 4 is 0.5483870967741935 at channel 9\n",
      "Max accuracy for 6 and 0 is 0.5624012638230648 at channel 26\n",
      "Max accuracy for 6 and 1 is 0.5617647058823529 at channel 75\n",
      "Max accuracy for 6 and 2 is 0.5460218408736349 at channel 4\n",
      "Max accuracy for 6 and 3 is 0.5444785276073619 at channel 64\n",
      "Max accuracy for 6 and 4 is 0.5694227769110765 at channel 78\n",
      "Max accuracy for 6 and 5 is 0.5447284345047924 at channel 26\n",
      "Max accuracy for 7 and 0 is 0.5354938271604939 at channel 60\n",
      "Max accuracy for 7 and 1 is 0.5403458213256485 at channel 3\n",
      "Max accuracy for 7 and 2 is 0.5670731707317073 at channel 60\n",
      "Max accuracy for 7 and 3 is 0.5322338830584707 at channel 30\n",
      "Max accuracy for 7 and 4 is 0.5343511450381679 at channel 114\n",
      "Max accuracy for 7 and 5 is 0.5538221528861155 at channel 67\n",
      "Max accuracy for 7 and 6 is 0.5392749244712991 at channel 1\n",
      "Max accuracy for 8 and 0 is 0.5617977528089888 at channel 112\n",
      "Max accuracy for 8 and 1 is 0.5343283582089552 at channel 63\n",
      "Max accuracy for 8 and 2 is 0.5483359746434231 at channel 51\n",
      "Max accuracy for 8 and 3 is 0.559190031152648 at channel 104\n",
      "Max accuracy for 8 and 4 is 0.5467511885895404 at channel 94\n",
      "Max accuracy for 8 and 5 is 0.5487012987012987 at channel 95\n",
      "Max accuracy for 8 and 6 is 0.5384615384615384 at channel 94\n",
      "Max accuracy for 8 and 7 is 0.549079754601227 at channel 20\n",
      "Max accuracy for 9 and 0 is 0.5429936305732485 at channel 59\n",
      "Max accuracy for 9 and 1 is 0.5244444444444445 at channel 52\n",
      "Max accuracy for 9 and 2 is 0.5455974842767296 at channel 115\n",
      "Max accuracy for 9 and 3 is 0.5533230293663061 at channel 3\n",
      "Max accuracy for 9 and 4 is 0.5487421383647799 at channel 87\n",
      "Max accuracy for 9 and 5 is 0.5491143317230274 at channel 2\n",
      "Max accuracy for 9 and 6 is 0.559190031152648 at channel 60\n",
      "Max accuracy for 9 and 7 is 0.5388127853881278 at channel 89\n",
      "Max accuracy for 9 and 8 is 0.5411392405063291 at channel 50\n",
      "45\n",
      "37\n",
      "{1, 2, 3, 4, 8, 9, 20, 23, 24, 25, 26, 27, 30, 33, 39, 40, 50, 51, 52, 59, 60, 63, 64, 67, 75, 78, 87, 88, 89, 90, 93, 94, 95, 104, 112, 114, 115}\n"
     ]
    }
   ],
   "source": [
    "best = []\n",
    "for i in range(10):\n",
    "    for j in range(10):\n",
    "        if i == j:\n",
    "            break\n",
    "        max = np.max(a[:,i,j])\n",
    "        index = np.argmax(a[:,i,j])\n",
    "        best.append(index)\n",
    "        print(f\"Max accuracy for {i} and {j} is {max} at channel {index}\")\n",
    "print(len(best))\n",
    "bset = set(best)\n",
    "print(len(bset))\n",
    "print(bset)"
   ]
  },
  {
   "cell_type": "code",
   "execution_count": 10,
   "id": "262f6401",
   "metadata": {
    "execution": {
     "iopub.execute_input": "2024-05-03T01:45:31.755316Z",
     "iopub.status.busy": "2024-05-03T01:45:31.754928Z",
     "iopub.status.idle": "2024-05-03T01:45:31.764202Z",
     "shell.execute_reply": "2024-05-03T01:45:31.762761Z"
    },
    "papermill": {
     "duration": 0.105868,
     "end_time": "2024-05-03T01:45:31.766629",
     "exception": false,
     "start_time": "2024-05-03T01:45:31.660761",
     "status": "completed"
    },
    "tags": []
   },
   "outputs": [
    {
     "name": "stdout",
     "output_type": "stream",
     "text": [
      "[60, 79, 12, 50, 85, 56, 99, 9, 91, 36, 11, 111, 103, 60, 102, 31]\n"
     ]
    }
   ],
   "source": [
    "# get the 16 channels with the highest accuracy\n",
    "channels = []\n",
    "temp = []\n",
    "for t in a:\n",
    "    temp.append(np.mean(t))\n",
    "\n",
    "temp = np.array(temp)\n",
    "    \n",
    "for i in range(16):\n",
    "    m = np.max(temp)\n",
    "    index = np.argmax(temp)\n",
    "    channels.append(index)\n",
    "    temp = temp[temp != m]\n",
    "print(channels)"
   ]
  },
  {
   "cell_type": "code",
   "execution_count": 11,
   "id": "f92ab541",
   "metadata": {
    "execution": {
     "iopub.execute_input": "2024-05-03T01:45:31.965819Z",
     "iopub.status.busy": "2024-05-03T01:45:31.964086Z",
     "iopub.status.idle": "2024-05-03T01:45:31.972904Z",
     "shell.execute_reply": "2024-05-03T01:45:31.971655Z"
    },
    "papermill": {
     "duration": 0.113001,
     "end_time": "2024-05-03T01:45:31.975883",
     "exception": false,
     "start_time": "2024-05-03T01:45:31.862882",
     "status": "completed"
    },
    "tags": []
   },
   "outputs": [
    {
     "name": "stdout",
     "output_type": "stream",
     "text": [
      "49\n",
      "{1, 2, 3, 4, 8, 9, 11, 12, 20, 23, 24, 25, 26, 27, 30, 31, 33, 36, 39, 40, 50, 51, 52, 56, 59, 60, 63, 64, 67, 75, 78, 79, 85, 87, 88, 89, 90, 91, 93, 94, 95, 99, 102, 103, 104, 111, 112, 114, 115}\n"
     ]
    }
   ],
   "source": [
    "for c in channels:\n",
    "    best.append(c)\n",
    "bset = set(best)\n",
    "print(len(bset))\n",
    "print(bset)"
   ]
  },
  {
   "cell_type": "code",
   "execution_count": 12,
   "id": "3b0abbb4",
   "metadata": {
    "execution": {
     "iopub.execute_input": "2024-05-03T01:45:32.183718Z",
     "iopub.status.busy": "2024-05-03T01:45:32.182693Z",
     "iopub.status.idle": "2024-05-03T01:45:32.199227Z",
     "shell.execute_reply": "2024-05-03T01:45:32.197281Z"
    },
    "papermill": {
     "duration": 0.120049,
     "end_time": "2024-05-03T01:45:32.201841",
     "exception": false,
     "start_time": "2024-05-03T01:45:32.081792",
     "status": "completed"
    },
    "tags": []
   },
   "outputs": [
    {
     "name": "stdout",
     "output_type": "stream",
     "text": [
      "Class 0 has 1549 samples, class 1 has 1780 samples\n",
      "Ratio is 0.8702247191011236\n",
      "Class 0 has 1549 samples, class 2 has 1586 samples\n",
      "Ratio is 0.9766708701134931\n",
      "Class 0 has 1549 samples, class 3 has 1643 samples\n",
      "Ratio is 0.9427875836883749\n",
      "Class 0 has 1549 samples, class 4 has 1585 samples\n",
      "Ratio is 0.9772870662460568\n",
      "Class 0 has 1549 samples, class 5 has 1513 samples\n",
      "Ratio is 1.0237937871777925\n",
      "Class 0 has 1549 samples, class 6 has 1616 samples\n",
      "Ratio is 0.9585396039603961\n",
      "Class 0 has 1549 samples, class 7 has 1690 samples\n",
      "Ratio is 0.9165680473372781\n",
      "Class 0 has 1549 samples, class 8 has 1566 samples\n",
      "Ratio is 0.9891443167305236\n",
      "Class 0 has 1549 samples, class 9 has 1591 samples\n",
      "Ratio is 0.9736015084852294\n",
      "Class 1 has 1780 samples, class 2 has 1586 samples\n",
      "Ratio is 1.1223203026481714\n",
      "Class 1 has 1780 samples, class 3 has 1643 samples\n",
      "Ratio is 1.08338405356056\n",
      "Class 1 has 1780 samples, class 4 has 1585 samples\n",
      "Ratio is 1.1230283911671923\n",
      "Class 1 has 1780 samples, class 5 has 1513 samples\n",
      "Ratio is 1.1764705882352942\n",
      "Class 1 has 1780 samples, class 6 has 1616 samples\n",
      "Ratio is 1.1014851485148516\n",
      "Class 1 has 1780 samples, class 7 has 1690 samples\n",
      "Ratio is 1.0532544378698225\n",
      "Class 1 has 1780 samples, class 8 has 1566 samples\n",
      "Ratio is 1.1366538952745848\n",
      "Class 1 has 1780 samples, class 9 has 1591 samples\n",
      "Ratio is 1.1187932118164676\n",
      "Class 2 has 1586 samples, class 3 has 1643 samples\n",
      "Ratio is 0.9653073645769933\n",
      "Class 2 has 1586 samples, class 4 has 1585 samples\n",
      "Ratio is 1.0006309148264985\n",
      "Class 2 has 1586 samples, class 5 has 1513 samples\n",
      "Ratio is 1.0482485128883015\n",
      "Class 2 has 1586 samples, class 6 has 1616 samples\n",
      "Ratio is 0.9814356435643564\n",
      "Class 2 has 1586 samples, class 7 has 1690 samples\n",
      "Ratio is 0.9384615384615385\n",
      "Class 2 has 1586 samples, class 8 has 1566 samples\n",
      "Ratio is 1.012771392081737\n",
      "Class 2 has 1586 samples, class 9 has 1591 samples\n",
      "Ratio is 0.9968573224387178\n",
      "Class 3 has 1643 samples, class 4 has 1585 samples\n",
      "Ratio is 1.0365930599369084\n",
      "Class 3 has 1643 samples, class 5 has 1513 samples\n",
      "Ratio is 1.0859220092531394\n",
      "Class 3 has 1643 samples, class 6 has 1616 samples\n",
      "Ratio is 1.0167079207920793\n",
      "Class 3 has 1643 samples, class 7 has 1690 samples\n",
      "Ratio is 0.972189349112426\n",
      "Class 3 has 1643 samples, class 8 has 1566 samples\n",
      "Ratio is 1.049169859514687\n",
      "Class 3 has 1643 samples, class 9 has 1591 samples\n",
      "Ratio is 1.032683846637335\n",
      "Class 4 has 1585 samples, class 5 has 1513 samples\n",
      "Ratio is 1.047587574355585\n",
      "Class 4 has 1585 samples, class 6 has 1616 samples\n",
      "Ratio is 0.9808168316831684\n",
      "Class 4 has 1585 samples, class 7 has 1690 samples\n",
      "Ratio is 0.9378698224852071\n",
      "Class 4 has 1585 samples, class 8 has 1566 samples\n",
      "Ratio is 1.01213282247765\n",
      "Class 4 has 1585 samples, class 9 has 1591 samples\n",
      "Ratio is 0.9962287869264613\n",
      "Class 5 has 1513 samples, class 6 has 1616 samples\n",
      "Ratio is 0.9362623762376238\n",
      "Class 5 has 1513 samples, class 7 has 1690 samples\n",
      "Ratio is 0.8952662721893491\n",
      "Class 5 has 1513 samples, class 8 has 1566 samples\n",
      "Ratio is 0.9661558109833972\n",
      "Class 5 has 1513 samples, class 9 has 1591 samples\n",
      "Ratio is 0.9509742300439975\n",
      "Class 6 has 1616 samples, class 7 has 1690 samples\n",
      "Ratio is 0.9562130177514793\n",
      "Class 6 has 1616 samples, class 8 has 1566 samples\n",
      "Ratio is 1.0319284802043422\n",
      "Class 6 has 1616 samples, class 9 has 1591 samples\n",
      "Ratio is 1.015713387806411\n",
      "Class 7 has 1690 samples, class 8 has 1566 samples\n",
      "Ratio is 1.079182630906769\n",
      "Class 7 has 1690 samples, class 9 has 1591 samples\n",
      "Ratio is 1.062225015713388\n",
      "Class 8 has 1566 samples, class 9 has 1591 samples\n",
      "Ratio is 0.9842866121935889\n"
     ]
    }
   ],
   "source": [
    "for c in combinations([0, 1, 2, 3, 4, 5, 6, 7, 8, 9], 2):\n",
    "    x, y = c\n",
    "    i = labels[labels==x].shape[0]\n",
    "    j = labels[labels==y].shape[0]\n",
    "    print(f\"Class {x} has {i} samples, class {y} has {j} samples\")\n",
    "    print(f\"Ratio is {i/j}\")"
   ]
  }
 ],
 "metadata": {
  "kaggle": {
   "accelerator": "none",
   "dataSources": [
    {
     "datasetId": 4861440,
     "sourceId": 8205004,
     "sourceType": "datasetVersion"
    },
    {
     "datasetId": 4880596,
     "sourceId": 8230093,
     "sourceType": "datasetVersion"
    }
   ],
   "dockerImageVersionId": 30698,
   "isGpuEnabled": false,
   "isInternetEnabled": true,
   "language": "python",
   "sourceType": "notebook"
  },
  "kernelspec": {
   "display_name": "Python 3",
   "language": "python",
   "name": "python3"
  },
  "language_info": {
   "codemirror_mode": {
    "name": "ipython",
    "version": 3
   },
   "file_extension": ".py",
   "mimetype": "text/x-python",
   "name": "python",
   "nbconvert_exporter": "python",
   "pygments_lexer": "ipython3",
   "version": "3.10.13"
  },
  "papermill": {
   "default_parameters": {},
   "duration": 1961.275024,
   "end_time": "2024-05-03T01:45:33.527936",
   "environment_variables": {},
   "exception": null,
   "input_path": "__notebook__.ipynb",
   "output_path": "__notebook__.ipynb",
   "parameters": {},
   "start_time": "2024-05-03T01:12:52.252912",
   "version": "2.5.0"
  }
 },
 "nbformat": 4,
 "nbformat_minor": 5
}
