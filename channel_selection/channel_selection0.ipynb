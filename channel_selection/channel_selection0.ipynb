{
 "cells": [
  {
   "cell_type": "code",
   "execution_count": 1,
   "id": "3753bb4a",
   "metadata": {
    "_cell_guid": "b1076dfc-b9ad-4769-8c92-a6c4dae69d19",
    "_uuid": "8f2839f25d086af736a60e9eeb907d3b93b6e0e5",
    "execution": {
     "iopub.execute_input": "2024-04-26T08:32:02.340023Z",
     "iopub.status.busy": "2024-04-26T08:32:02.339637Z",
     "iopub.status.idle": "2024-04-26T08:32:03.765166Z",
     "shell.execute_reply": "2024-04-26T08:32:03.763792Z"
    },
    "papermill": {
     "duration": 1.435947,
     "end_time": "2024-04-26T08:32:03.768570",
     "exception": false,
     "start_time": "2024-04-26T08:32:02.332623",
     "status": "completed"
    },
    "tags": []
   },
   "outputs": [],
   "source": [
    "import numpy as np\n",
    "import pandas as pd\n",
    "from tqdm import tqdm\n",
    "import matplotlib.pyplot as plt\n",
    "import scipy.fft as fft"
   ]
  },
  {
   "cell_type": "code",
   "execution_count": 2,
   "id": "43be7b1f",
   "metadata": {
    "execution": {
     "iopub.execute_input": "2024-04-26T08:32:03.781739Z",
     "iopub.status.busy": "2024-04-26T08:32:03.781111Z",
     "iopub.status.idle": "2024-04-26T08:32:03.794060Z",
     "shell.execute_reply": "2024-04-26T08:32:03.792826Z"
    },
    "papermill": {
     "duration": 0.022448,
     "end_time": "2024-04-26T08:32:03.796712",
     "exception": false,
     "start_time": "2024-04-26T08:32:03.774264",
     "status": "completed"
    },
    "tags": []
   },
   "outputs": [],
   "source": [
    "electrode_names = [\n",
    "    \"FP1\", \"FPz\", \"FP2\", \"AFp1\", \"AFPz\", \"AFp2\", \"AF7\", \"AF3\", \"AF4\", \"AF8\",\n",
    "    \"AFF5h\", \"AFF1h\", \"AFF2h\", \"AFF6h\", \"F9\", \"F7\", \"F5\", \"F3\", \"F1\", \"Fz\",\n",
    "    \"F2\", \"F4\", \"F6\", \"F8\", \"F10\", \"FFT9h\", \"FFT7h\", \"FFC5h\", \"FFC3h\", \"FFC1h\",\n",
    "    \"FFC2h\", \"FFC4h\", \"FFC6h\", \"FFT8h\", \"FFT10h\", \"FT9\", \"FT7\", \"FC5\", \"FC3\",\n",
    "    \"FC1\", \"FCz\", \"FC2\", \"FC4\", \"FC6\", \"FT8\", \"FT10\", \"FTT9h\", \"FTT7h\", \"FCC5h\",\n",
    "    \"FCC3h\", \"FCC1h\", \"FCC2h\", \"FCC4h\", \"FCC6h\", \"FTT8h\", \"FTT10h\", \"T7\", \"C5\",\n",
    "    \"C3\", \"C1\", \"Cz\", \"C2\", \"C4\", \"C6\", \"T8\", \"TTP7h\", \"CCP5h\", \"CCP3h\", \"CCP1h\",\n",
    "    \"CCP2h\", \"CCP4h\", \"CCP6h\", \"TTP8h\", \"TP9\", \"TP7\", \"CP5\", \"CP3\", \"Cpz\", \"CP4\",\n",
    "    \"CP6\", \"TP8\", \"TP10\", \"TPP9h\", \"TPP7h\", \"CPP5h\", \"CPP3h\", \"CPP1h\", \"CPP2h\",\n",
    "    \"CPP4h\", \"CPP6h\", \"TPP8h\", \"TPP10h\", \"P9\", \"P7\", \"P5\", \"P3\", \"P1\", \"Pz\", \"P2\",\n",
    "    \"P4\", \"P6\", \"P8\", \"P10\", \"PPO9h\", \"PPO5h\", \"PPO1h\", \"PPO2h\", \"PPO6h\", \"PPO10h\",\n",
    "    \"PO9\", \"PO7\", \"PO3\", \"POz\", \"PO4\", \"PO8\", \"PO10\", \"POO9h\", \"POO1\", \"POO2\",\n",
    "    \"POO10h\", \"O1\", \"Oz\", \"O2\", \"OI1h\", \"OI2h\", \"I1\", \"Iz\", \"I2\"\n",
    "]\n",
    "\n",
    "num_electrodes = len(electrode_names)\n",
    "\n",
    "num_electrodes\n",
    "NUM_CHANNELS_TO_LOAD = 128\n",
    "DATA_SIZE = 60_000\n",
    "SIGNAL_LENGTH = 167"
   ]
  },
  {
   "cell_type": "code",
   "execution_count": 3,
   "id": "88dc127d",
   "metadata": {
    "execution": {
     "iopub.execute_input": "2024-04-26T08:32:03.809232Z",
     "iopub.status.busy": "2024-04-26T08:32:03.808717Z",
     "iopub.status.idle": "2024-04-26T08:32:03.821647Z",
     "shell.execute_reply": "2024-04-26T08:32:03.820307Z"
    },
    "papermill": {
     "duration": 0.02264,
     "end_time": "2024-04-26T08:32:03.824348",
     "exception": false,
     "start_time": "2024-04-26T08:32:03.801708",
     "status": "completed"
    },
    "tags": []
   },
   "outputs": [],
   "source": [
    "labels = np.zeros(DATA_SIZE, dtype=int)\n",
    "data = np.zeros((DATA_SIZE, NUM_CHANNELS_TO_LOAD, SIGNAL_LENGTH))\n",
    "\n",
    "def data_selection():\n",
    "    class_means = np.zeros((10, 128, 167))\n",
    "    for i in tqdm(range(10)):\n",
    "        class_means[i] = np.mean(data[labels == i], axis=0)\n",
    "    z = np.zeros(DATA_SIZE)\n",
    "    for i in tqdm(range(DATA_SIZE)):\n",
    "        j = labels[i]\n",
    "        x = data[i]\n",
    "        z[i] = np.corrcoef(x, class_means[j])[0][1]\n",
    "    return z\n",
    "\n",
    "def load_channel(channel: int, cz: int):\n",
    "    i = 0\n",
    "    csize = cz\n",
    "    for chunk in tqdm(pd.read_csv('/kaggle/input/processed-train/processed_train.csv', chunksize=cz)):\n",
    "        labels[i*csize:(i+1)*csize] = chunk['label'].to_numpy()\n",
    "        data[i*csize:(i+1)*csize] = chunk.iloc[0:csize, :-2].to_numpy().reshape((csize,NUM_CHANNELS_TO_LOAD,SIGNAL_LENGTH))[:,channel:channel+NUM_CHANNELS_TO_LOAD,:].reshape((csize, NUM_CHANNELS_TO_LOAD, SIGNAL_LENGTH))\n",
    "        i = i + 1\n",
    "        if i == (DATA_SIZE / csize):\n",
    "            break\n",
    "    \n",
    "        "
   ]
  },
  {
   "cell_type": "code",
   "execution_count": 4,
   "id": "8119d2e0",
   "metadata": {
    "execution": {
     "iopub.execute_input": "2024-04-26T08:32:03.836528Z",
     "iopub.status.busy": "2024-04-26T08:32:03.836022Z",
     "iopub.status.idle": "2024-04-26T08:32:05.048470Z",
     "shell.execute_reply": "2024-04-26T08:32:05.046662Z"
    },
    "papermill": {
     "duration": 1.223205,
     "end_time": "2024-04-26T08:32:05.052655",
     "exception": false,
     "start_time": "2024-04-26T08:32:03.829450",
     "status": "completed"
    },
    "tags": []
   },
   "outputs": [],
   "source": [
    "from sklearn.model_selection import train_test_split\n",
    "from sklearn.neighbors import KNeighborsClassifier\n",
    "from sklearn.metrics import accuracy_score\n",
    "from multiprocessing import Pool, Pipe\n",
    "from itertools import combinations\n",
    "\n",
    "n_neighbors = 109\n",
    "\n",
    "def do_work(i):\n",
    "    nums = [0, 1, 2, 3, 4, 5, 6, 7, 8, 9]\n",
    "    result = np.zeros((10,10))\n",
    "    for e, x in enumerate(combinations(nums, 2)):\n",
    "        j, l = x\n",
    "        y = labels[(labels == j) | (labels == l)]\n",
    "        d = data[(labels == j) | (labels == l)]\n",
    "        X_train, X_test, y_train, y_test = train_test_split(d[:,i,:], y, test_size=0.2, random_state=42)\n",
    "        knn = KNeighborsClassifier(n_neighbors=n_neighbors, weights='distance')\n",
    "        knn.fit(X_train, y_train)\n",
    "        y_pred = knn.predict(X_test)\n",
    "        a = accuracy_score(y_test, y_pred)\n",
    "        result[j, l] = a\n",
    "        result[l, j] = a\n",
    "    r = result.flatten()\n",
    "    r = r[r != 0]\n",
    "    print(\"i: \" + str(i) + \": \" + str(np.mean(r)))\n",
    "    return result\n",
    "\n",
    "\n",
    "def classify_all_nums():\n",
    "    with Pool() as pool:\n",
    "        accuracies = pool.map(do_work, range(NUM_CHANNELS_TO_LOAD))\n",
    "    return accuracies\n",
    "\n"
   ]
  },
  {
   "cell_type": "code",
   "execution_count": 5,
   "id": "d3db9583",
   "metadata": {
    "execution": {
     "iopub.execute_input": "2024-04-26T08:32:05.065004Z",
     "iopub.status.busy": "2024-04-26T08:32:05.063891Z",
     "iopub.status.idle": "2024-04-26T08:44:31.497592Z",
     "shell.execute_reply": "2024-04-26T08:44:31.496202Z"
    },
    "papermill": {
     "duration": 746.455318,
     "end_time": "2024-04-26T08:44:31.513094",
     "exception": false,
     "start_time": "2024-04-26T08:32:05.057776",
     "status": "completed"
    },
    "tags": []
   },
   "outputs": [
    {
     "name": "stderr",
     "output_type": "stream",
     "text": [
      "59it [12:26, 12.65s/it]\n"
     ]
    }
   ],
   "source": [
    "load_channel(0, 1000)"
   ]
  },
  {
   "cell_type": "code",
   "execution_count": 6,
   "id": "e9cea97d",
   "metadata": {
    "execution": {
     "iopub.execute_input": "2024-04-26T08:44:31.538620Z",
     "iopub.status.busy": "2024-04-26T08:44:31.538114Z",
     "iopub.status.idle": "2024-04-26T08:44:31.543509Z",
     "shell.execute_reply": "2024-04-26T08:44:31.542244Z"
    },
    "papermill": {
     "duration": 0.021913,
     "end_time": "2024-04-26T08:44:31.546341",
     "exception": false,
     "start_time": "2024-04-26T08:44:31.524428",
     "status": "completed"
    },
    "tags": []
   },
   "outputs": [],
   "source": [
    "# z = data_selection()\n",
    "# data = data[np.abs(z) >= 0.3]\n",
    "# print(data.shape)\n",
    "# labels = labels[np.abs(z) >= 0.3]\n"
   ]
  },
  {
   "cell_type": "code",
   "execution_count": 7,
   "id": "51b2de5d",
   "metadata": {
    "execution": {
     "iopub.execute_input": "2024-04-26T08:44:31.570904Z",
     "iopub.status.busy": "2024-04-26T08:44:31.570360Z",
     "iopub.status.idle": "2024-04-26T10:11:21.271955Z",
     "shell.execute_reply": "2024-04-26T10:11:21.269164Z"
    },
    "papermill": {
     "duration": 5209.719592,
     "end_time": "2024-04-26T10:11:21.277115",
     "exception": false,
     "start_time": "2024-04-26T08:44:31.557523",
     "status": "completed"
    },
    "tags": []
   },
   "outputs": [
    {
     "name": "stdout",
     "output_type": "stream",
     "text": [
      "i: 8: 0.5049785953911714\n",
      "i: 16: 0.5070171659850413\n",
      "i: 24: 0.511809501274327\n",
      "i: 0: 0.504934378788149\n",
      "i: 9: 0.5098464276087469\n",
      "i: 17: 0.5056414346316617\n",
      "i: 25: 0.5094743613557701\n",
      "i: 1: 0.504784972260885\n",
      "i: 10: 0.5081617040956716\n",
      "i: 18: 0.5050741440361027\n",
      "i: 2: 0.5082522280736181\n",
      "i: 26: 0.5069614033072884\n",
      "i: 11: 0.5071548639082171\n",
      "i: 19: 0.5061879349054076\n",
      "i: 3: 0.5058289932727289\n",
      "i: 27: 0.5086550809949231\n",
      "i: 12: 0.5059464827602272\n",
      "i: 28: 0.5078724081526911\n",
      "i: 20: 0.508302813126738\n",
      "i: 4: 0.5060423685866783\n",
      "i: 13: 0.5048699562576936\n",
      "i: 21: 0.5076177102307275\n",
      "i: 29: 0.507973826586066\n",
      "i: 5: 0.5061601638861185\n",
      "i: 14: 0.5057984283416815\n",
      "i: 22: 0.5088010314890761\n",
      "i: 30: 0.5037442278074076\n",
      "i: 6: 0.507243750979469\n",
      "i: 15: 0.507062253209268\n",
      "i: 23: 0.5091848580503424\n",
      "i: 31: 0.5067976859391125\n",
      "i: 7: 0.5089968240265633\n",
      "i: 32: 0.5069011138587008\n",
      "i: 40: 0.5071697466012576\n",
      "i: 48: 0.5058226688477607\n",
      "i: 56: 0.5050063176786154\n",
      "i: 33: 0.5080791956914976\n",
      "i: 41: 0.5031786295228065\n",
      "i: 49: 0.5082980440173779\n",
      "i: 57: 0.5060585925449744\n",
      "i: 34: 0.5073241849548241\n",
      "i: 42: 0.5053799514677861\n",
      "i: 50: 0.505109419364043\n",
      "i: 58: 0.5048123285227707\n",
      "i: 35: 0.5053308267688871\n",
      "i: 43: 0.5083274062988061\n",
      "i: 59: 0.5045114429634691\n",
      "i: 51: 0.5023514367346491\n",
      "i: 36: 0.5044766932402488\n",
      "i: 60: 0.50861930077684\n",
      "i: 52: 0.5074354474551016\n",
      "i: 44: 0.5065054034766736\n",
      "i: 37: 0.5067725343695533\n",
      "i: 53: 0.5070607698371634\n",
      "i: 61: 0.5035604924386526\n",
      "i: 45: 0.5052375207802097\n",
      "i: 38: 0.5055130282399197\n",
      "i: 54: 0.5081076175912546\n",
      "i: 62: 0.505290444308569\n",
      "i: 46: 0.5021974820719417\n",
      "i: 39: 0.5029272732100019\n",
      "i: 55: 0.5035930807533692\n",
      "i: 63: 0.5036002069154595\n",
      "i: 47: 0.5051121980795669\n",
      "i: 64: 0.5037586803786914\n",
      "i: 72: 0.5028254786811666\n",
      "i: 88: 0.5038645199908897\n",
      "i: 80: 0.5024898841002826\n",
      "i: 65: 0.5023430152761539\n",
      "i: 73: 0.5065214846155434\n",
      "i: 89: 0.5049135425153537\n",
      "i: 81: 0.5061206515075385\n",
      "i: 66: 0.5051073246397886\n",
      "i: 74: 0.503236035873989\n",
      "i: 90: 0.504903878153268\n",
      "i: 82: 0.5052377585554048\n",
      "i: 67: 0.504174780113173\n",
      "i: 75: 0.5053352874753071\n",
      "i: 91: 0.5028185396839183\n",
      "i: 83: 0.5053440385660073\n",
      "i: 76: 0.5043971806648658\n",
      "i: 68: 0.504797653497783\n",
      "i: 92: 0.5057208120702653\n",
      "i: 84: 0.5051639198054911\n",
      "i: 77: 0.5081120237763299\n",
      "i: 69: 0.50343271717775\n",
      "i: 85: 0.5036087211329133\n",
      "i: 93: 0.5074132754384446\n",
      "i: 86: 0.5087486024762367\n",
      "i: 78: 0.5066433847952228\n",
      "i: 70: 0.5006219822424995\n",
      "i: 94: 0.5067165130714655\n",
      "i: 87: 0.5044484799449722\n",
      "i: 79: 0.5057600212143507\n",
      "i: 71: 0.5054416969425073\n",
      "i: 95: 0.5035851120070395\n",
      "i: 104: 0.5045451144613234\n",
      "i: 112: 0.5036525950931742\n",
      "i: 96: 0.5060563965570701\n",
      "i: 120: 0.5063773005164329\n",
      "i: 105: 0.5096259627773408\n",
      "i: 97: 0.5087043712763146\n",
      "i: 113: 0.5028402676460503\n",
      "i: 121: 0.5000384462979419\n",
      "i: 106: 0.5042880485819894\n",
      "i: 98: 0.5069277634431331\n",
      "i: 114: 0.5060159965238438\n",
      "i: 122: 0.5062889715957796\n",
      "i: 107: 0.5062611044182936i: 99: 0.503751387799631\n",
      "\n",
      "i: 115: 0.5020448714412504\n",
      "i: 123: 0.5055843746592347\n",
      "i: 108: 0.5071209661402316\n",
      "i: 100: 0.5021476099650458\n",
      "i: 116: 0.5019917176558656\n",
      "i: 124: 0.5092957284804901\n",
      "i: 109: 0.5050106374449618\n",
      "i: 101: 0.500505332401933\n",
      "i: 117: 0.5056878006308217\n",
      "i: 125: 0.5066773405777641\n",
      "i: 110: 0.5055612254336836\n",
      "i: 102: 0.5053335551074887\n",
      "i: 118: 0.5055421774122291\n",
      "i: 126: 0.5025316954834698\n",
      "i: 111: 0.5012091424002464\n",
      "i: 103: 0.5000181645013992\n",
      "i: 119: 0.5028760084700359\n",
      "i: 127: 0.5074684161801426\n"
     ]
    }
   ],
   "source": [
    "a = classify_all_nums()"
   ]
  },
  {
   "cell_type": "code",
   "execution_count": 8,
   "id": "8830a3b2",
   "metadata": {
    "_kg_hide-input": true,
    "_kg_hide-output": true,
    "execution": {
     "iopub.execute_input": "2024-04-26T10:11:21.355840Z",
     "iopub.status.busy": "2024-04-26T10:11:21.355217Z",
     "iopub.status.idle": "2024-04-26T10:11:34.036564Z",
     "shell.execute_reply": "2024-04-26T10:11:34.035246Z"
    },
    "papermill": {
     "duration": 12.726605,
     "end_time": "2024-04-26T10:11:34.040308",
     "exception": false,
     "start_time": "2024-04-26T10:11:21.313703",
     "status": "completed"
    },
    "tags": []
   },
   "outputs": [
    {
     "name": "stderr",
     "output_type": "stream",
     "text": [
      "/tmp/ipykernel_18/3281820150.py:11: MatplotlibDeprecationWarning: The get_cmap function was deprecated in Matplotlib 3.7 and will be removed two minor releases later. Use ``matplotlib.colormaps[name]`` or ``matplotlib.colormaps.get_cmap(obj)`` instead.\n",
      "  v = cm.get_cmap('viridis', 5)\n"
     ]
    },
    {
     "data": {
      "image/png": "[encoded data removed]",
      "text/plain": [
       "<Figure size 3200x1600 with 128 Axes>"
      ]
     },
     "metadata": {},
     "output_type": "display_data"
    }
   ],
   "source": [
    "from matplotlib import cm\n",
    "from matplotlib.colors import ListedColormap,LinearSegmentedColormap\n",
    "\n",
    "a = np.array(a)\n",
    "num_matrices = a.shape[0]\n",
    "rows = 8\n",
    "cols = num_matrices // rows if num_matrices % rows == 0 else num_matrices // rows + 1  # Number of columns\n",
    "\n",
    "fig, axes = plt.subplots(rows, cols, figsize=(cols * 2, rows * 2))\n",
    "\n",
    "v = cm.get_cmap('viridis', 5)\n",
    "for i in range(num_matrices):\n",
    "    row = i // cols\n",
    "    col = i % cols\n",
    "    \n",
    "    axes[row, col].imshow(a[i], cmap=v)\n",
    "    axes[row, col].set_title(f'Matrix {i}')\n",
    "    axes[row, col].axis('off')\n",
    "\n",
    "# Adjust layout to prevent overlap\n",
    "plt.tight_layout()\n",
    "plt.show()\n",
    "\n"
   ]
  },
  {
   "cell_type": "code",
   "execution_count": 9,
   "id": "efe5f101",
   "metadata": {
    "execution": {
     "iopub.execute_input": "2024-04-26T10:11:34.120296Z",
     "iopub.status.busy": "2024-04-26T10:11:34.119249Z",
     "iopub.status.idle": "2024-04-26T10:11:34.131974Z",
     "shell.execute_reply": "2024-04-26T10:11:34.130317Z"
    },
    "papermill": {
     "duration": 0.056558,
     "end_time": "2024-04-26T10:11:34.136113",
     "exception": false,
     "start_time": "2024-04-26T10:11:34.079555",
     "status": "completed"
    },
    "tags": []
   },
   "outputs": [
    {
     "name": "stdout",
     "output_type": "stream",
     "text": [
      "Max accuracy for 1 and 0 is 0.5444137386498223 at channel 34\n",
      "Max accuracy for 2 and 0 is 0.5334455195624737 at channel 27\n",
      "Max accuracy for 2 and 1 is 0.5326771653543307 at channel 10\n",
      "Max accuracy for 3 and 0 is 0.5217751970136872 at channel 18\n",
      "Max accuracy for 3 and 1 is 0.5332038834951456 at channel 27\n",
      "Max accuracy for 3 and 2 is 0.5306038047973531 at channel 17\n",
      "Max accuracy for 4 and 0 is 0.5325116872078198 at channel 24\n",
      "Max accuracy for 4 and 1 is 0.5411203814064363 at channel 56\n",
      "Max accuracy for 4 and 2 is 0.5258474576271186 at channel 7\n",
      "Max accuracy for 4 and 3 is 0.5281837160751566 at channel 124\n",
      "Max accuracy for 5 and 0 is 0.5354781842221242 at channel 72\n",
      "Max accuracy for 5 and 1 is 0.5618577887381833 at channel 24\n",
      "Max accuracy for 5 and 2 is 0.5461335676625659 at channel 53\n",
      "Max accuracy for 5 and 3 is 0.531371700562527 at channel 108\n",
      "Max accuracy for 5 and 4 is 0.5295162006213937 at channel 124\n",
      "Max accuracy for 6 and 0 is 0.5238497256226256 at channel 33\n",
      "Max accuracy for 6 and 1 is 0.5398894154818326 at channel 39\n",
      "Max accuracy for 6 and 2 is 0.5277777777777778 at channel 54\n",
      "Max accuracy for 6 and 3 is 0.529045643153527 at channel 11\n",
      "Max accuracy for 6 and 4 is 0.5284863945578231 at channel 106\n",
      "Max accuracy for 6 and 5 is 0.5277777777777778 at channel 60\n",
      "Max accuracy for 7 and 0 is 0.5246103363412633 at channel 46\n",
      "Max accuracy for 7 and 1 is 0.5284396617986165 at channel 79\n",
      "Max accuracy for 7 and 2 is 0.5292433537832311 at channel 1\n",
      "Max accuracy for 7 and 3 is 0.5254032258064516 at channel 38\n",
      "Max accuracy for 7 and 4 is 0.532617671345995 at channel 49\n",
      "Max accuracy for 7 and 5 is 0.5431993156544055 at channel 1\n",
      "Max accuracy for 7 and 6 is 0.542880590890439 at channel 105\n",
      "Max accuracy for 8 and 0 is 0.5282377919320594 at channel 15\n",
      "Max accuracy for 8 and 1 is 0.5406907502977372 at channel 7\n",
      "Max accuracy for 8 and 2 is 0.5232853513971211 at channel 60\n",
      "Max accuracy for 8 and 3 is 0.5252398831873175 at channel 90\n",
      "Max accuracy for 8 and 4 is 0.5284309533988885 at channel 48\n",
      "Max accuracy for 8 and 5 is 0.5374722838137472 at channel 33\n",
      "Max accuracy for 8 and 6 is 0.5250637213254036 at channel 15\n",
      "Max accuracy for 8 and 7 is 0.5299215848122163 at channel 20\n",
      "Max accuracy for 9 and 0 is 0.5254736842105263 at channel 77\n",
      "Max accuracy for 9 and 1 is 0.5399763686490744 at channel 97\n",
      "Max accuracy for 9 and 2 is 0.519311502938707 at channel 52\n",
      "Max accuracy for 9 and 3 is 0.5298013245033113 at channel 24\n",
      "Max accuracy for 9 and 4 is 0.5269181856718949 at channel 37\n",
      "Max accuracy for 9 and 5 is 0.5241864555848724 at channel 52\n",
      "Max accuracy for 9 and 6 is 0.5332771693344566 at channel 23\n",
      "Max accuracy for 9 and 7 is 0.52312730249693 at channel 114\n",
      "Max accuracy for 9 and 8 is 0.5262711864406779 at channel 52\n",
      "45\n",
      "34\n",
      "{1, 7, 10, 11, 15, 17, 18, 20, 23, 24, 27, 33, 34, 37, 38, 39, 46, 48, 49, 52, 53, 54, 56, 60, 72, 77, 79, 90, 97, 105, 106, 108, 114, 124}\n"
     ]
    }
   ],
   "source": [
    "best = []\n",
    "for i in range(10):\n",
    "    for j in range(10):\n",
    "        if i == j:\n",
    "            break\n",
    "        max = np.max(a[:,i,j])\n",
    "        index = np.argmax(a[:,i,j])\n",
    "        best.append(index)\n",
    "        print(f\"Max accuracy for {i} and {j} is {max} at channel {index}\")\n",
    "print(len(best))\n",
    "bset = set(best)\n",
    "print(len(bset))\n",
    "print(bset)"
   ]
  },
  {
   "cell_type": "code",
   "execution_count": 10,
   "id": "7c4968bb",
   "metadata": {
    "execution": {
     "iopub.execute_input": "2024-04-26T10:11:34.217732Z",
     "iopub.status.busy": "2024-04-26T10:11:34.217213Z",
     "iopub.status.idle": "2024-04-26T10:11:34.230445Z",
     "shell.execute_reply": "2024-04-26T10:11:34.229021Z"
    },
    "papermill": {
     "duration": 0.056185,
     "end_time": "2024-04-26T10:11:34.233174",
     "exception": false,
     "start_time": "2024-04-26T10:11:34.176989",
     "status": "completed"
    },
    "tags": []
   },
   "outputs": [
    {
     "name": "stdout",
     "output_type": "stream",
     "text": [
      "[24, 9, 103, 23, 120, 22, 7, 20, 80, 90, 21, 53, 36, 18, 40, 2]\n"
     ]
    }
   ],
   "source": [
    "# get the 16 channels with the highest accuracy\n",
    "channels = []\n",
    "temp = []\n",
    "for t in a:\n",
    "    temp.append(np.mean(t))\n",
    "\n",
    "temp = np.array(temp)\n",
    "    \n",
    "for i in range(16):\n",
    "    m = np.max(temp)\n",
    "    index = np.argmax(temp)\n",
    "    channels.append(index)\n",
    "    temp = temp[temp != m]\n",
    "print(channels)"
   ]
  },
  {
   "cell_type": "code",
   "execution_count": 11,
   "id": "8894254c",
   "metadata": {
    "execution": {
     "iopub.execute_input": "2024-04-26T10:11:34.310504Z",
     "iopub.status.busy": "2024-04-26T10:11:34.309958Z",
     "iopub.status.idle": "2024-04-26T10:11:34.318796Z",
     "shell.execute_reply": "2024-04-26T10:11:34.317413Z"
    },
    "papermill": {
     "duration": 0.05052,
     "end_time": "2024-04-26T10:11:34.321496",
     "exception": false,
     "start_time": "2024-04-26T10:11:34.270976",
     "status": "completed"
    },
    "tags": []
   },
   "outputs": [
    {
     "name": "stdout",
     "output_type": "stream",
     "text": [
      "43\n",
      "{1, 2, 7, 9, 10, 11, 15, 17, 18, 20, 21, 22, 23, 24, 27, 33, 34, 36, 37, 38, 39, 40, 46, 48, 49, 52, 53, 54, 56, 60, 72, 77, 79, 80, 90, 97, 103, 105, 106, 108, 114, 120, 124}\n"
     ]
    }
   ],
   "source": [
    "for c in channels:\n",
    "    best.append(c)\n",
    "bset = set(best)\n",
    "print(len(bset))\n",
    "print(bset)"
   ]
  },
  {
   "cell_type": "code",
   "execution_count": 12,
   "id": "dc1f01ae",
   "metadata": {
    "execution": {
     "iopub.execute_input": "2024-04-26T10:11:34.401357Z",
     "iopub.status.busy": "2024-04-26T10:11:34.400805Z",
     "iopub.status.idle": "2024-04-26T10:11:34.434264Z",
     "shell.execute_reply": "2024-04-26T10:11:34.432566Z"
    },
    "papermill": {
     "duration": 0.07693,
     "end_time": "2024-04-26T10:11:34.437553",
     "exception": false,
     "start_time": "2024-04-26T10:11:34.360623",
     "status": "completed"
    },
    "tags": []
   },
   "outputs": [
    {
     "name": "stdout",
     "output_type": "stream",
     "text": [
      "Class 0 has 5923 samples, class 1 has 6742 samples\n",
      "Ratio is 0.878522693562741\n",
      "Class 0 has 5923 samples, class 2 has 5958 samples\n",
      "Ratio is 0.9941255454850622\n",
      "Class 0 has 5923 samples, class 3 has 6131 samples\n",
      "Ratio is 0.966074049910292\n",
      "Class 0 has 5923 samples, class 4 has 5842 samples\n",
      "Ratio is 1.0138651146867512\n",
      "Class 0 has 5923 samples, class 5 has 5421 samples\n",
      "Ratio is 1.0926028408042796\n",
      "Class 0 has 5923 samples, class 6 has 5918 samples\n",
      "Ratio is 1.0008448800270362\n",
      "Class 0 has 5923 samples, class 7 has 6265 samples\n",
      "Ratio is 0.9454110135674382\n",
      "Class 0 has 5923 samples, class 8 has 5850 samples\n",
      "Ratio is 1.0124786324786326\n",
      "Class 0 has 5923 samples, class 9 has 5949 samples\n",
      "Ratio is 0.9956295175659775\n",
      "Class 1 has 6742 samples, class 2 has 5958 samples\n",
      "Ratio is 1.131587781134609\n",
      "Class 1 has 6742 samples, class 3 has 6131 samples\n",
      "Ratio is 1.0996574783885174\n",
      "Class 1 has 6742 samples, class 4 has 5842 samples\n",
      "Ratio is 1.1540568298527902\n",
      "Class 1 has 6742 samples, class 5 has 5421 samples\n",
      "Ratio is 1.243681977494927\n",
      "Class 1 has 6742 samples, class 6 has 5918 samples\n",
      "Ratio is 1.1392362284555593\n",
      "Class 1 has 6742 samples, class 7 has 6265 samples\n",
      "Ratio is 1.0761372705506784\n",
      "Class 1 has 6742 samples, class 8 has 5850 samples\n",
      "Ratio is 1.1524786324786325\n",
      "Class 1 has 6742 samples, class 9 has 5949 samples\n",
      "Ratio is 1.133299714237687\n",
      "Class 2 has 5958 samples, class 3 has 6131 samples\n",
      "Ratio is 0.9717827434350025\n",
      "Class 2 has 5958 samples, class 4 has 5842 samples\n",
      "Ratio is 1.0198562136254707\n",
      "Class 2 has 5958 samples, class 5 has 5421 samples\n",
      "Ratio is 1.0990592141671278\n",
      "Class 2 has 5958 samples, class 6 has 5918 samples\n",
      "Ratio is 1.0067590402162894\n",
      "Class 2 has 5958 samples, class 7 has 6265 samples\n",
      "Ratio is 0.9509976057462091\n",
      "Class 2 has 5958 samples, class 8 has 5850 samples\n",
      "Ratio is 1.0184615384615385\n",
      "Class 2 has 5958 samples, class 9 has 5949 samples\n",
      "Ratio is 1.0015128593040847\n",
      "Class 3 has 6131 samples, class 4 has 5842 samples\n",
      "Ratio is 1.049469359808285\n",
      "Class 3 has 6131 samples, class 5 has 5421 samples\n",
      "Ratio is 1.1309721453606345\n",
      "Class 3 has 6131 samples, class 6 has 5918 samples\n",
      "Ratio is 1.0359918891517406\n",
      "Class 3 has 6131 samples, class 7 has 6265 samples\n",
      "Ratio is 0.978611332801277\n",
      "Class 3 has 6131 samples, class 8 has 5850 samples\n",
      "Ratio is 1.0480341880341881\n",
      "Class 3 has 6131 samples, class 9 has 5949 samples\n",
      "Ratio is 1.0305933770381577\n",
      "Class 4 has 5842 samples, class 5 has 5421 samples\n",
      "Ratio is 1.0776609481645454\n",
      "Class 4 has 5842 samples, class 6 has 5918 samples\n",
      "Ratio is 0.9871578235890504\n",
      "Class 4 has 5842 samples, class 7 has 6265 samples\n",
      "Ratio is 0.9324820430965682\n",
      "Class 4 has 5842 samples, class 8 has 5850 samples\n",
      "Ratio is 0.9986324786324786\n",
      "Class 4 has 5842 samples, class 9 has 5949 samples\n",
      "Ratio is 0.982013783829215\n",
      "Class 5 has 5421 samples, class 6 has 5918 samples\n",
      "Ratio is 0.9160189253126056\n",
      "Class 5 has 5421 samples, class 7 has 6265 samples\n",
      "Ratio is 0.8652833200319234\n",
      "Class 5 has 5421 samples, class 8 has 5850 samples\n",
      "Ratio is 0.9266666666666666\n",
      "Class 5 has 5421 samples, class 9 has 5949 samples\n",
      "Ratio is 0.9112455874936964\n",
      "Class 6 has 5918 samples, class 7 has 6265 samples\n",
      "Ratio is 0.9446129289704709\n",
      "Class 6 has 5918 samples, class 8 has 5850 samples\n",
      "Ratio is 1.0116239316239317\n",
      "Class 6 has 5918 samples, class 9 has 5949 samples\n",
      "Ratio is 0.9947890401748193\n",
      "Class 7 has 6265 samples, class 8 has 5850 samples\n",
      "Ratio is 1.070940170940171\n",
      "Class 7 has 6265 samples, class 9 has 5949 samples\n",
      "Ratio is 1.0531181711211968\n",
      "Class 8 has 5850 samples, class 9 has 5949 samples\n",
      "Ratio is 0.983358547655068\n"
     ]
    }
   ],
   "source": [
    "for c in combinations([0, 1, 2, 3, 4, 5, 6, 7, 8, 9], 2):\n",
    "    x, y = c\n",
    "    i = labels[labels==x].shape[0]\n",
    "    j = labels[labels==y].shape[0]\n",
    "    print(f\"Class {x} has {i} samples, class {y} has {j} samples\")\n",
    "    print(f\"Ratio is {i/j}\")"
   ]
  }
 ],
 "metadata": {
  "kaggle": {
   "accelerator": "none",
   "dataSources": [
    {
     "datasetId": 4861440,
     "sourceId": 8205004,
     "sourceType": "datasetVersion"
    },
    {
     "datasetId": 4880596,
     "sourceId": 8230093,
     "sourceType": "datasetVersion"
    }
   ],
   "dockerImageVersionId": 30698,
   "isGpuEnabled": false,
   "isInternetEnabled": true,
   "language": "python",
   "sourceType": "notebook"
  },
  "kernelspec": {
   "display_name": "Python 3",
   "language": "python",
   "name": "python3"
  },
  "language_info": {
   "codemirror_mode": {
    "name": "ipython",
    "version": 3
   },
   "file_extension": ".py",
   "mimetype": "text/x-python",
   "name": "python",
   "nbconvert_exporter": "python",
   "pygments_lexer": "ipython3",
   "version": "3.10.13"
  },
  "papermill": {
   "default_parameters": {},
   "duration": 5978.06023,
   "end_time": "2024-04-26T10:11:37.027202",
   "environment_variables": {},
   "exception": null,
   "input_path": "__notebook__.ipynb",
   "output_path": "__notebook__.ipynb",
   "parameters": {},
   "start_time": "2024-04-26T08:31:58.966972",
   "version": "2.5.0"
  }
 },
 "nbformat": 4,
 "nbformat_minor": 5
}
