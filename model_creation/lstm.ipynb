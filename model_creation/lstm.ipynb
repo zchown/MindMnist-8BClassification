{
 "cells": [
  {
   "cell_type": "code",
   "execution_count": 1,
   "id": "a327b1bb",
   "metadata": {
    "_cell_guid": "b1076dfc-b9ad-4769-8c92-a6c4dae69d19",
    "_uuid": "8f2839f25d086af736a60e9eeb907d3b93b6e0e5",
    "execution": {
     "iopub.execute_input": "2024-05-03T12:29:44.175563Z",
     "iopub.status.busy": "2024-05-03T12:29:44.174932Z",
     "iopub.status.idle": "2024-05-03T12:29:57.118536Z",
     "shell.execute_reply": "2024-05-03T12:29:57.117564Z"
    },
    "papermill": {
     "duration": 12.951595,
     "end_time": "2024-05-03T12:29:57.121138",
     "exception": false,
     "start_time": "2024-05-03T12:29:44.169543",
     "status": "completed"
    },
    "tags": []
   },
   "outputs": [
    {
     "name": "stderr",
     "output_type": "stream",
     "text": [
      "2024-05-03 12:29:46.082586: E external/local_xla/xla/stream_executor/cuda/cuda_dnn.cc:9261] Unable to register cuDNN factory: Attempting to register factory for plugin cuDNN when one has already been registered\n",
      "2024-05-03 12:29:46.082710: E external/local_xla/xla/stream_executor/cuda/cuda_fft.cc:607] Unable to register cuFFT factory: Attempting to register factory for plugin cuFFT when one has already been registered\n",
      "2024-05-03 12:29:46.220448: E external/local_xla/xla/stream_executor/cuda/cuda_blas.cc:1515] Unable to register cuBLAS factory: Attempting to register factory for plugin cuBLAS when one has already been registered\n"
     ]
    }
   ],
   "source": [
    "import tensorflow as tf\n",
    "import numpy as np\n",
    "import pandas as pd\n",
    "import matplotlib.pyplot as plt\n",
    "from tqdm import tqdm\n",
    "\n",
    "import keras.layers as layers\n",
    "from keras.models import Model\n",
    "from keras.callbacks import ModelCheckpoint"
   ]
  },
  {
   "cell_type": "code",
   "execution_count": 2,
   "id": "90735b36",
   "metadata": {
    "execution": {
     "iopub.execute_input": "2024-05-03T12:29:57.130888Z",
     "iopub.status.busy": "2024-05-03T12:29:57.129449Z",
     "iopub.status.idle": "2024-05-03T12:29:57.135476Z",
     "shell.execute_reply": "2024-05-03T12:29:57.134762Z"
    },
    "papermill": {
     "duration": 0.012701,
     "end_time": "2024-05-03T12:29:57.137524",
     "exception": false,
     "start_time": "2024-05-03T12:29:57.124823",
     "status": "completed"
    },
    "tags": []
   },
   "outputs": [],
   "source": [
    "# electrode_names = [\n",
    "#     \"FP1\", \"FPz\", \"FP2\", \"AFp1\", \"AFPz\", \"AFp2\", \"AF7\", \"AF3\", \"AF4\", \"AF8\",\n",
    "#     \"AFF5h\", \"AFF1h\", \"AFF2h\", \"AFF6h\", \"F9\", \"F7\", \"F5\", \"F3\", \"F1\", \"Fz\",\n",
    "#     \"F2\", \"F4\", \"F6\", \"F8\", \"F10\", \"FFT9h\", \"FFT7h\", \"FFC5h\", \"FFC3h\", \"FFC1h\",\n",
    "#     \"FFC2h\", \"FFC4h\", \"FFC6h\", \"FFT8h\", \"FFT10h\", \"FT9\", \"FT7\", \"FC5\", \"FC3\",\n",
    "#     \"FC1\", \"FCz\", \"FC2\", \"FC4\", \"FC6\", \"FT8\", \"FT10\", \"FTT9h\", \"FTT7h\", \"FCC5h\",\n",
    "#     \"FCC3h\", \"FCC1h\", \"FCC2h\", \"FCC4h\", \"FCC6h\", \"FTT8h\", \"FTT10h\", \"T7\", \"C5\",\n",
    "#     \"C3\", \"C1\", \"Cz\", \"C2\", \"C4\", \"C6\", \"T8\", \"TTP7h\", \"CCP5h\", \"CCP3h\", \"CCP1h\",\n",
    "#     \"CCP2h\", \"CCP4h\", \"CCP6h\", \"TTP8h\", \"TP9\", \"TP7\", \"CP5\", \"CP3\", \"Cpz\", \"CP4\",\n",
    "#     \"CP6\", \"TP8\", \"TP10\", \"TPP9h\", \"TPP7h\", \"CPP5h\", \"CPP3h\", \"CPP1h\", \"CPP2h\",\n",
    "#     \"CPP4h\", \"CPP6h\", \"TPP8h\", \"TPP10h\", \"P9\", \"P7\", \"P5\", \"P3\", \"P1\", \"Pz\", \"P2\",\n",
    "#     \"P4\", \"P6\", \"P8\", \"P10\", \"PPO9h\", \"PPO5h\", \"PPO1h\", \"PPO2h\", \"PPO6h\", \"PPO10h\",\n",
    "#     \"PO9\", \"PO7\", \"PO3\", \"POz\", \"PO4\", \"PO8\", \"PO10\", \"POO9h\", \"POO1\", \"POO2\",\n",
    "#     \"POO10h\", \"O1\", \"Oz\", \"O2\", \"OI1h\", \"OI2h\", \"I1\", \"Iz\", \"I2\"\n",
    "# ]\n",
    "\n",
    "# num_electrodes = len(electrode_names)\n",
    "\n",
    "NUM_CHANNELS_TO_LOAD = 128\n",
    "DATA_SIZE = 60_000\n",
    "SIGNAL_LENGTH = 167\n",
    "BATCH_SIZE = 128"
   ]
  },
  {
   "cell_type": "code",
   "execution_count": 3,
   "id": "801e9c9d",
   "metadata": {
    "execution": {
     "iopub.execute_input": "2024-05-03T12:29:57.145894Z",
     "iopub.status.busy": "2024-05-03T12:29:57.145059Z",
     "iopub.status.idle": "2024-05-03T12:38:43.340851Z",
     "shell.execute_reply": "2024-05-03T12:38:43.339657Z"
    },
    "papermill": {
     "duration": 526.203075,
     "end_time": "2024-05-03T12:38:43.343903",
     "exception": false,
     "start_time": "2024-05-03T12:29:57.140828",
     "status": "completed"
    },
    "tags": []
   },
   "outputs": [
    {
     "name": "stderr",
     "output_type": "stream",
     "text": [
      "61it [08:46,  8.63s/it]\n"
     ]
    }
   ],
   "source": [
    "def load_in_order(cz: int):\n",
    "    dataset = np.zeros((DATA_SIZE, NUM_CHANNELS_TO_LOAD, SIGNAL_LENGTH), dtype=np.int32)\n",
    "    labels = np.zeros(DATA_SIZE, dtype=np.int8)\n",
    "    \n",
    "    i = 0\n",
    "    for chunk in tqdm(pd.read_csv('/kaggle/input/processed-train/processed_train.csv', chunksize=cz)):\n",
    "        chunk = chunk[chunk['label'] != -1]\n",
    "        l = chunk['label'].to_numpy()\n",
    "        o = chunk.shape[0]\n",
    "        labels[i:i+o] = l\n",
    "        dataset[i:i+o] = chunk.iloc[:, :-2].to_numpy().reshape(-1, NUM_CHANNELS_TO_LOAD, SIGNAL_LENGTH)\n",
    "        i += o\n",
    "    return labels, dataset\n",
    "        \n",
    "\n",
    "labels, datasets = load_in_order(1_000)"
   ]
  },
  {
   "cell_type": "code",
   "execution_count": 4,
   "id": "b4a9b064",
   "metadata": {
    "execution": {
     "iopub.execute_input": "2024-05-03T12:38:43.361387Z",
     "iopub.status.busy": "2024-05-03T12:38:43.360968Z",
     "iopub.status.idle": "2024-05-03T12:56:28.026098Z",
     "shell.execute_reply": "2024-05-03T12:56:28.024827Z"
    },
    "papermill": {
     "duration": 1064.677264,
     "end_time": "2024-05-03T12:56:28.028789",
     "exception": false,
     "start_time": "2024-05-03T12:38:43.351525",
     "status": "completed"
    },
    "tags": []
   },
   "outputs": [],
   "source": [
    "session_nums = pd.read_csv('/kaggle/input/mindbigdata2023-mnist-8b/train.csv', usecols=['label', 'sessionnum'])\n",
    "session_nums = session_nums.to_numpy()"
   ]
  },
  {
   "cell_type": "code",
   "execution_count": 5,
   "id": "805649a0",
   "metadata": {
    "execution": {
     "iopub.execute_input": "2024-05-03T12:56:28.046871Z",
     "iopub.status.busy": "2024-05-03T12:56:28.045933Z",
     "iopub.status.idle": "2024-05-03T12:56:28.052966Z",
     "shell.execute_reply": "2024-05-03T12:56:28.052062Z"
    },
    "papermill": {
     "duration": 0.01822,
     "end_time": "2024-05-03T12:56:28.055255",
     "exception": false,
     "start_time": "2024-05-03T12:56:28.037035",
     "status": "completed"
    },
    "tags": []
   },
   "outputs": [],
   "source": [
    "session_nums = session_nums[session_nums[:,0]!=-1][:,1]"
   ]
  },
  {
   "cell_type": "code",
   "execution_count": 6,
   "id": "6c4dfc74",
   "metadata": {
    "execution": {
     "iopub.execute_input": "2024-05-03T12:56:28.072239Z",
     "iopub.status.busy": "2024-05-03T12:56:28.071555Z",
     "iopub.status.idle": "2024-05-03T12:56:38.977959Z",
     "shell.execute_reply": "2024-05-03T12:56:38.976785Z"
    },
    "papermill": {
     "duration": 10.918585,
     "end_time": "2024-05-03T12:56:38.981405",
     "exception": false,
     "start_time": "2024-05-03T12:56:28.062820",
     "status": "completed"
    },
    "tags": []
   },
   "outputs": [
    {
     "data": {
      "text/plain": [
       "{0: {'mean': 39.03792851796407, 'std': 9023.286045285138},\n",
       " 1: {'mean': 1328.1925486526945, 'std': 14576.540891465806},\n",
       " 2: {'mean': 51.94376129415925, 'std': 14550.659943499359},\n",
       " 3: {'mean': 232.66916773071503, 'std': 10405.774918529361},\n",
       " 4: {'mean': 219.5900105726048, 'std': 8784.213498951172},\n",
       " 5: {'mean': 1790.9829975465734, 'std': 28065.30308923119},\n",
       " 6: {'mean': 235.36004865269462, 'std': 34387.997285728154},\n",
       " 7: {'mean': 911.6657783697311, 'std': 12842.532965745473},\n",
       " 8: {'mean': 953.526959062644, 'std': 12138.891981572737},\n",
       " 9: {'mean': 679.569003399451, 'std': 9550.37418945668},\n",
       " 10: {'mean': 1682.9322460847536, 'std': 34496.856177914575},\n",
       " 11: {'mean': 697.8279081680389, 'std': 21331.839663515948},\n",
       " 12: {'mean': 492.4352601047904, 'std': 9660.09606430828},\n",
       " 13: {'mean': 711.0830673212399, 'std': 20705.90440557397},\n",
       " 14: {'mean': 638.6611038901926, 'std': 16093.106949051167},\n",
       " 15: {'mean': 95.92246693322217, 'std': 26466.45508111274},\n",
       " 16: {'mean': 1196.8387673871007, 'std': 27591.127605512112},\n",
       " 17: {'mean': 1403.3266414670659, 'std': 28998.919867373246},\n",
       " 18: {'mean': 412.88399022267964, 'std': 9515.258153019493},\n",
       " 19: {'mean': 1638.1100784227, 'std': 25087.644128188193},\n",
       " 20: {'mean': 418.61752097220653, 'std': 11161.295059688417},\n",
       " 21: {'mean': 518.6591431719894, 'std': 10523.458193575574},\n",
       " 22: {'mean': 899.7396487025948, 'std': 22726.196399207958},\n",
       " 23: {'mean': 559.3139430274067, 'std': 9662.775419115376},\n",
       " 24: {'mean': 428.61957747451527, 'std': 18323.317778574074},\n",
       " 25: {'mean': 425.5084431876379, 'std': 11379.753483886565},\n",
       " 26: {'mean': 1616.7672379199932, 'std': 12587.454246332713},\n",
       " 27: {'mean': 1459.850088274538, 'std': 32953.5616141124},\n",
       " 28: {'mean': 175.22284934847286, 'std': 9938.074911255364},\n",
       " 29: {'mean': 2532.1733372540634, 'std': 12467.823548229084},\n",
       " 30: {'mean': 315.5698150809612, 'std': 9343.125559984954},\n",
       " 31: {'mean': 1463.4999982673542, 'std': 11212.221698934904},\n",
       " 32: {'mean': 1493.4517584316661, 'std': 30517.702786463407},\n",
       " 33: {'mean': 1356.891184843428, 'std': 21144.541697067787},\n",
       " 34: {'mean': 692.9240288686326, 'std': 19700.514213315553},\n",
       " 35: {'mean': 892.1489171032935, 'std': 10827.772541187865},\n",
       " 36: {'mean': 587.6835294688401, 'std': 10043.253758896251},\n",
       " 37: {'mean': 1160.3771531936127, 'std': 20163.183670448256},\n",
       " 38: {'mean': 1011.1225645583833, 'std': 10930.941623613036},\n",
       " 39: {'mean': 489.4474848536622, 'std': 16213.750422938396},\n",
       " 40: {'mean': 966.957067849595, 'std': 11281.122839209844},\n",
       " 41: {'mean': 1221.4157711362989, 'std': 13512.87520765089},\n",
       " 42: {'mean': 1562.6321117633154, 'std': 19025.55686061196},\n",
       " 43: {'mean': 1227.236645825995, 'std': 23993.338408158317},\n",
       " 44: {'mean': 866.3350032078699, 'std': 12353.973282032466},\n",
       " 45: {'mean': 1188.4039747588156, 'std': 17136.106495731085},\n",
       " 46: {'mean': 524.9789831931531, 'std': 24835.137755334294},\n",
       " 47: {'mean': 610.4389543179267, 'std': 14202.445142161221},\n",
       " 48: {'mean': 431.01245125374254, 'std': 9412.638437856429},\n",
       " 49: {'mean': 458.3544522733379, 'std': 14666.600140256462},\n",
       " 50: {'mean': 470.46001489667725, 'std': 24604.02101741046},\n",
       " 51: {'mean': 1415.0692766684374, 'std': 20495.56033366691},\n",
       " 52: {'mean': 1012.9854514408682, 'std': 19223.53754827746},\n",
       " 53: {'mean': 373.330250748503, 'std': 11134.652580067677},\n",
       " 54: {'mean': 621.3035678642715, 'std': 11155.93232060365},\n",
       " 55: {'mean': 2404.486246257485, 'std': 38351.22680222635},\n",
       " 56: {'mean': 449.88736742616464, 'std': 11868.59127617511},\n",
       " 57: {'mean': 421.84421209664004, 'std': 19289.84571043028},\n",
       " 58: {'mean': 644.8581880881095, 'std': 12510.355299236131},\n",
       " 59: {'mean': 1903.8224377806887, 'std': 15598.539591117722},\n",
       " 60: {'mean': 1184.5277304765468, 'std': 20238.750480836054},\n",
       " 61: {'mean': -4138.3629210329345, 'std': 29058.23417101805},\n",
       " 62: {'mean': 710.2576930959509, 'std': 26930.04561187748},\n",
       " 63: {'mean': 2516.000568394461, 'std': 29442.094942690615},\n",
       " 64: {'mean': 997.1417808613542, 'std': 11618.383324851802},\n",
       " 65: {'mean': 1630.331431333761, 'std': 13915.349577245095},\n",
       " 66: {'mean': 254.8037902499142, 'std': 12476.465035953916},\n",
       " 67: {'mean': 1257.3696545828798, 'std': 17198.328444196246},\n",
       " 68: {'mean': 757.3978091083458, 'std': 12415.136425532455},\n",
       " 69: {'mean': 825.2690844872754, 'std': 11502.612926174133},\n",
       " 70: {'mean': 995.646997937265, 'std': 11566.412429761349},\n",
       " 71: {'mean': 535.3853378149362, 'std': 12405.539376103206},\n",
       " 72: {'mean': 384.7757423788786, 'std': 11507.94848307097},\n",
       " 73: {'mean': 306.67598372590754, 'std': 13769.411251620186},\n",
       " 74: {'mean': 1097.502519720175, 'std': 11856.729012840822},\n",
       " 75: {'mean': 3067.926769188895, 'std': 24023.843682700266},\n",
       " 76: {'mean': 350.4600728499897, 'std': 13468.055739879066},\n",
       " 77: {'mean': 1337.0930591317365, 'std': 18251.898377196303},\n",
       " 78: {'mean': 801.5791170193397, 'std': 19988.196809708053},\n",
       " 79: {'mean': 635.3179367826847, 'std': 10840.433084420332},\n",
       " 80: {'mean': 1311.811489520958, 'std': 11649.220195041931},\n",
       " 81: {'mean': 986.2530731611103, 'std': 13333.840860433436},\n",
       " 82: {'mean': 804.537840200746, 'std': 11454.890582138862},\n",
       " 83: {'mean': 819.0064778775782, 'std': 12604.606937347035},\n",
       " 84: {'mean': 868.4904786193741, 'std': 27705.19198030207},\n",
       " 85: {'mean': 1143.5375956420492, 'std': 31916.50446739827},\n",
       " 86: {'mean': 846.6720603931027, 'std': 11454.984405756244},\n",
       " 87: {'mean': 415.769519266262, 'std': 13152.85906290253},\n",
       " 88: {'mean': 1409.4625044029588, 'std': 12841.976223896852},\n",
       " 89: {'mean': 183.79985146893713, 'std': 12397.65034234368},\n",
       " 90: {'mean': 130.0033896492729, 'std': 9604.198667613375},\n",
       " 91: {'mean': 1101.385111027944, 'std': 32044.81550961133},\n",
       " 92: {'mean': 663.0906705685851, 'std': 28433.653801740336},\n",
       " 93: {'mean': 536.649761133982, 'std': 18158.68232278038},\n",
       " 94: {'mean': 1435.9438254350673, 'std': 14857.355017872145},\n",
       " 95: {'mean': 187.480596992157, 'std': 9730.000659476238},\n",
       " 96: {'mean': 1047.6790319751124, 'std': 13488.940175208549},\n",
       " 97: {'mean': 1743.7844364841744, 'std': 25920.089638413643},\n",
       " 98: {'mean': 637.8973289532047, 'std': 14710.313345978991},\n",
       " 99: {'mean': 1297.666803569585, 'std': 15906.552669293511},\n",
       " 100: {'mean': 1426.968335516467, 'std': 19690.479494085506},\n",
       " 101: {'mean': 1126.9014018391788, 'std': 21952.518939994494},\n",
       " 102: {'mean': 443.0522997048356, 'std': 15570.374067928058},\n",
       " 103: {'mean': 846.2361476422155, 'std': 19220.988029836033},\n",
       " 104: {'mean': 703.6663708832335, 'std': 22340.755930173134},\n",
       " 105: {'mean': 465.97443913309746, 'std': 10415.159231529016},\n",
       " 106: {'mean': 2071.88967252994, 'std': 39556.44858974431},\n",
       " 107: {'mean': 313.6270075474052, 'std': 11053.420604845063},\n",
       " 108: {'mean': 1530.8221897722412, 'std': 35759.59463741008},\n",
       " 109: {'mean': 733.4290662165253, 'std': 30220.76343804506},\n",
       " 110: {'mean': 453.7511388473054, 'std': 15295.991543850505},\n",
       " 111: {'mean': 517.6596124625748, 'std': 11625.253217767748},\n",
       " 112: {'mean': 419.14160376122754, 'std': 12339.930522127606},\n",
       " 113: {'mean': 499.8114924385101, 'std': 10398.42372997837},\n",
       " 114: {'mean': 662.6838438255069, 'std': 10580.892527675676},\n",
       " 115: {'mean': 994.8072146332336, 'std': 10792.438620801619},\n",
       " 116: {'mean': 1268.8011989414028, 'std': 12532.400391007524},\n",
       " 117: {'mean': 907.4724203378956, 'std': 10992.469728523694},\n",
       " 118: {'mean': 856.34059578212, 'std': 11779.23939318526},\n",
       " 119: {'mean': 621.6317653648183, 'std': 11457.065779971526},\n",
       " 120: {'mean': 1687.413023367328, 'std': 19789.02459107379},\n",
       " 121: {'mean': 87.03688493548617, 'std': 26784.635278400896},\n",
       " 122: {'mean': 1601.3451060946288, 'std': 13871.432578525182},\n",
       " 123: {'mean': 547.413962513406, 'std': 18487.402847098965},\n",
       " 124: {'mean': 951.466813248503, 'std': 14336.512079635031},\n",
       " 125: {'mean': 376.65197741536156, 'std': 11500.264343819046},\n",
       " 126: {'mean': 483.4473615269461, 'std': 45773.12024225053},\n",
       " 127: {'mean': 3037.213669535928, 'std': 33804.631932127464},\n",
       " 128: {'mean': 1701.9717596057885, 'std': 33166.12256669297},\n",
       " 129: {'mean': 172.707589065477, 'std': 14860.085003430699},\n",
       " 130: {'mean': 877.8872181418413, 'std': 14776.883303208218},\n",
       " 131: {'mean': 746.6563552839376, 'std': 22668.874063742598},\n",
       " 132: {'mean': 877.4017280023287, 'std': 16261.536097607035},\n",
       " 133: {'mean': 700.165486620509, 'std': 10109.342959718553},\n",
       " 134: {'mean': 2267.898277003685, 'std': 14779.080511935183},\n",
       " 135: {'mean': 1097.7541597655752, 'std': 15120.543588898525},\n",
       " 136: {'mean': 177.26745259481038, 'std': 23776.7303762191},\n",
       " 137: {'mean': 2466.243365541644, 'std': 15759.158397291432},\n",
       " 138: {'mean': 287.6921142090818, 'std': 10557.278686268379},\n",
       " 139: {'mean': 389.18809795182364, 'std': 10504.038576112116},\n",
       " 140: {'mean': 397.93482112103226, 'std': 28107.717677745914},\n",
       " 141: {'mean': 771.9260053756124, 'std': 24124.765089938708},\n",
       " 142: {'mean': 243.28332984031937, 'std': 10485.480149616571},\n",
       " 143: {'mean': 300.7635829563699, 'std': 10887.230986787514},\n",
       " 144: {'mean': 674.611813248503, 'std': 30332.440665841517},\n",
       " 145: {'mean': 945.5323791441507, 'std': 14199.055342836435},\n",
       " 146: {'mean': 654.0666979960533, 'std': 15307.265220602583},\n",
       " 147: {'mean': 579.8906785981608, 'std': 19532.689115272868},\n",
       " 148: {'mean': 196.86280385919338, 'std': 15638.142336570776},\n",
       " 149: {'mean': 888.274878971895, 'std': 11521.673537305738},\n",
       " 150: {'mean': 705.7010189999465, 'std': 28668.58378164188},\n",
       " 151: {'mean': 518.5823410548306, 'std': 27937.35534435208},\n",
       " 152: {'mean': 461.20507986044043, 'std': 13175.622696385586},\n",
       " 153: {'mean': 1038.7316753992015, 'std': 17908.424708511357},\n",
       " 154: {'mean': 439.22420289881404, 'std': 13116.291368396256},\n",
       " 155: {'mean': 668.1102479416168, 'std': 15159.838931203205},\n",
       " 156: {'mean': 1125.6047030047048, 'std': 23338.0613003599},\n",
       " 157: {'mean': 728.8418708256564, 'std': 22058.981014992783},\n",
       " 158: {'mean': 702.1181434544703, 'std': 12760.08601820962},\n",
       " 159: {'mean': 248.58248324004165, 'std': 18615.119885241038},\n",
       " 160: {'mean': 543.509067640581, 'std': 11248.744433264173},\n",
       " 161: {'mean': 1010.729879704876, 'std': 16385.999072977404},\n",
       " 162: {'mean': 1025.336072359591, 'std': 14681.809435704166},\n",
       " 163: {'mean': 2511.3730351796407, 'std': 38317.795294225136},\n",
       " 164: {'mean': 534.2241502535973, 'std': 12919.374945491096},\n",
       " 165: {'mean': 369.25126863460576, 'std': 13346.716520736298},\n",
       " 166: {'mean': 826.0936397294696, 'std': 14571.92102648701},\n",
       " 167: {'mean': 1528.6832007859282, 'std': 35063.484089979764},\n",
       " 168: {'mean': 630.1206495297448, 'std': 32034.059659181414},\n",
       " 169: {'mean': 813.5124236612003, 'std': 28473.21600778093},\n",
       " 170: {'mean': 1206.158723276104, 'std': 32118.428410881315},\n",
       " 171: {'mean': 359.92763837949104, 'std': 13483.446039803648},\n",
       " 172: {'mean': 654.7772186876248, 'std': 12402.385039125104},\n",
       " 173: {'mean': 531.8827427956587, 'std': 17288.061057216568},\n",
       " 174: {'mean': 442.8861005800898, 'std': 14788.224290936161},\n",
       " 175: {'mean': 269.7524555779745, 'std': 12190.091402992362},\n",
       " 176: {'mean': 533.1886024445013, 'std': 14842.78917400166},\n",
       " 177: {'mean': 84.82320869624388, 'std': 9887.844578378223},\n",
       " 178: {'mean': 513.1835520209581, 'std': 11888.398519729992},\n",
       " 179: {'mean': 1261.0318118450598, 'std': 16163.599558453612},\n",
       " 180: {'mean': 897.6078355921137, 'std': 17746.511392247292},\n",
       " 181: {'mean': 787.6103591923296, 'std': 27681.75640148735},\n",
       " 182: {'mean': 475.357345247006, 'std': 28557.36127573723},\n",
       " 183: {'mean': 1039.884150760978, 'std': 12900.563586123211},\n",
       " 184: {'mean': 105.51778443113773, 'std': 11188.639029583186},\n",
       " 185: {'mean': 357.5012312874251, 'std': 10062.659764179465},\n",
       " 186: {'mean': 933.246828625358, 'std': 33895.492448464065},\n",
       " 187: {'mean': 289.5167734646254, 'std': 11886.420999681948},\n",
       " 188: {'mean': 313.9623133732535, 'std': 21095.94446905284},\n",
       " 189: {'mean': 150.54017930048994, 'std': 12171.494269652681},\n",
       " 190: {'mean': 2434.6473559131737, 'std': 23254.06428805579},\n",
       " 191: {'mean': 778.3359749251497, 'std': 40433.77744207845},\n",
       " 192: {'mean': 617.9451127306198, 'std': 17426.001114130373},\n",
       " 193: {'mean': 1316.6750204668788, 'std': 34583.73943504532},\n",
       " 194: {'mean': 1030.925743357036, 'std': 32060.489044392885},\n",
       " 195: {'mean': 330.39436054028306, 'std': 13712.130160263061},\n",
       " 196: {'mean': 330.6617293298019, 'std': 14130.77854856544},\n",
       " 197: {'mean': 375.0005200224551, 'std': 15507.865241721107},\n",
       " 198: {'mean': 990.6263154434374, 'std': 21224.830760505505},\n",
       " 199: {'mean': 1070.1191806068096, 'std': 19889.093992169255},\n",
       " 200: {'mean': -74.12419754905083, 'std': 26039.30800611819},\n",
       " 201: {'mean': 217.92935597336796, 'std': 17471.34783933918},\n",
       " 202: {'mean': 607.656352554631, 'std': 15126.114079345996},\n",
       " 203: {'mean': 639.7039057487704, 'std': 21264.01259363608},\n",
       " 204: {'mean': 394.9040100920608, 'std': 14932.278831810325},\n",
       " 205: {'mean': 428.2406441135586, 'std': 19102.932385069194},\n",
       " 206: {'mean': 817.424469746731, 'std': 16832.86675376921},\n",
       " 207: {'mean': 4681.546968562874, 'std': 22532.314256341164}}"
      ]
     },
     "execution_count": 6,
     "metadata": {},
     "output_type": "execute_result"
    }
   ],
   "source": [
    "sesh_data = {sesh:{'mean': np.mean(datasets[session_nums == sesh]), 'std': np.std(datasets[session_nums == sesh])} \n",
    " for sesh in np.unique(session_nums)}\n",
    "sesh_data"
   ]
  },
  {
   "cell_type": "code",
   "execution_count": 7,
   "id": "96749803",
   "metadata": {
    "execution": {
     "iopub.execute_input": "2024-05-03T12:56:39.000012Z",
     "iopub.status.busy": "2024-05-03T12:56:38.998925Z",
     "iopub.status.idle": "2024-05-03T12:56:46.226361Z",
     "shell.execute_reply": "2024-05-03T12:56:46.225340Z"
    },
    "papermill": {
     "duration": 7.239198,
     "end_time": "2024-05-03T12:56:46.228919",
     "exception": false,
     "start_time": "2024-05-03T12:56:38.989721",
     "status": "completed"
    },
    "tags": []
   },
   "outputs": [],
   "source": [
    "for sesh in sesh_data.keys():\n",
    "    datasets[session_nums==sesh] = (datasets[session_nums==sesh] - sesh_data[sesh]['mean'])/sesh_data[sesh]['std']"
   ]
  },
  {
   "cell_type": "code",
   "execution_count": 8,
   "id": "645abfa1",
   "metadata": {
    "execution": {
     "iopub.execute_input": "2024-05-03T12:56:46.247697Z",
     "iopub.status.busy": "2024-05-03T12:56:46.247306Z",
     "iopub.status.idle": "2024-05-03T12:56:46.633459Z",
     "shell.execute_reply": "2024-05-03T12:56:46.632393Z"
    },
    "papermill": {
     "duration": 0.398058,
     "end_time": "2024-05-03T12:56:46.635533",
     "exception": false,
     "start_time": "2024-05-03T12:56:46.237475",
     "status": "completed"
    },
    "tags": []
   },
   "outputs": [
    {
     "data": {
      "text/html": [
       "<pre style=\"white-space:pre;overflow-x:auto;line-height:normal;font-family:Menlo,'DejaVu Sans Mono',consolas,'Courier New',monospace\"><span style=\"font-weight: bold\">Model: \"functional_1\"</span>\n",
       "</pre>\n"
      ],
      "text/plain": [
       "\u001b[1mModel: \"functional_1\"\u001b[0m\n"
      ]
     },
     "metadata": {},
     "output_type": "display_data"
    },
    {
     "data": {
      "text/html": [
       "<pre style=\"white-space:pre;overflow-x:auto;line-height:normal;font-family:Menlo,'DejaVu Sans Mono',consolas,'Courier New',monospace\">┏━━━━━━━━━━━━━━━━━━━━━━━━━━━━━━━━━┳━━━━━━━━━━━━━━━━━━━━━━━━┳━━━━━━━━━━━━━━━┓\n",
       "┃<span style=\"font-weight: bold\"> Layer (type)                    </span>┃<span style=\"font-weight: bold\"> Output Shape           </span>┃<span style=\"font-weight: bold\">       Param # </span>┃\n",
       "┡━━━━━━━━━━━━━━━━━━━━━━━━━━━━━━━━━╇━━━━━━━━━━━━━━━━━━━━━━━━╇━━━━━━━━━━━━━━━┩\n",
       "│ input_layer (<span style=\"color: #0087ff; text-decoration-color: #0087ff\">InputLayer</span>)        │ (<span style=\"color: #00d7ff; text-decoration-color: #00d7ff\">None</span>, <span style=\"color: #00af00; text-decoration-color: #00af00\">128</span>, <span style=\"color: #00af00; text-decoration-color: #00af00\">167</span>)       │             <span style=\"color: #00af00; text-decoration-color: #00af00\">0</span> │\n",
       "├─────────────────────────────────┼────────────────────────┼───────────────┤\n",
       "│ permute (<span style=\"color: #0087ff; text-decoration-color: #0087ff\">Permute</span>)               │ (<span style=\"color: #00d7ff; text-decoration-color: #00d7ff\">None</span>, <span style=\"color: #00af00; text-decoration-color: #00af00\">167</span>, <span style=\"color: #00af00; text-decoration-color: #00af00\">128</span>)       │             <span style=\"color: #00af00; text-decoration-color: #00af00\">0</span> │\n",
       "├─────────────────────────────────┼────────────────────────┼───────────────┤\n",
       "│ lstm (<span style=\"color: #0087ff; text-decoration-color: #0087ff\">LSTM</span>)                     │ (<span style=\"color: #00d7ff; text-decoration-color: #00d7ff\">None</span>, <span style=\"color: #00af00; text-decoration-color: #00af00\">128</span>)            │       <span style=\"color: #00af00; text-decoration-color: #00af00\">131,584</span> │\n",
       "├─────────────────────────────────┼────────────────────────┼───────────────┤\n",
       "│ flatten (<span style=\"color: #0087ff; text-decoration-color: #0087ff\">Flatten</span>)               │ (<span style=\"color: #00d7ff; text-decoration-color: #00d7ff\">None</span>, <span style=\"color: #00af00; text-decoration-color: #00af00\">128</span>)            │             <span style=\"color: #00af00; text-decoration-color: #00af00\">0</span> │\n",
       "├─────────────────────────────────┼────────────────────────┼───────────────┤\n",
       "│ dense (<span style=\"color: #0087ff; text-decoration-color: #0087ff\">Dense</span>)                   │ (<span style=\"color: #00d7ff; text-decoration-color: #00d7ff\">None</span>, <span style=\"color: #00af00; text-decoration-color: #00af00\">128</span>)            │        <span style=\"color: #00af00; text-decoration-color: #00af00\">16,512</span> │\n",
       "├─────────────────────────────────┼────────────────────────┼───────────────┤\n",
       "│ dropout (<span style=\"color: #0087ff; text-decoration-color: #0087ff\">Dropout</span>)               │ (<span style=\"color: #00d7ff; text-decoration-color: #00d7ff\">None</span>, <span style=\"color: #00af00; text-decoration-color: #00af00\">128</span>)            │             <span style=\"color: #00af00; text-decoration-color: #00af00\">0</span> │\n",
       "├─────────────────────────────────┼────────────────────────┼───────────────┤\n",
       "│ dense_1 (<span style=\"color: #0087ff; text-decoration-color: #0087ff\">Dense</span>)                 │ (<span style=\"color: #00d7ff; text-decoration-color: #00d7ff\">None</span>, <span style=\"color: #00af00; text-decoration-color: #00af00\">10</span>)             │         <span style=\"color: #00af00; text-decoration-color: #00af00\">1,290</span> │\n",
       "└─────────────────────────────────┴────────────────────────┴───────────────┘\n",
       "</pre>\n"
      ],
      "text/plain": [
       "┏━━━━━━━━━━━━━━━━━━━━━━━━━━━━━━━━━┳━━━━━━━━━━━━━━━━━━━━━━━━┳━━━━━━━━━━━━━━━┓\n",
       "┃\u001b[1m \u001b[0m\u001b[1mLayer (type)                   \u001b[0m\u001b[1m \u001b[0m┃\u001b[1m \u001b[0m\u001b[1mOutput Shape          \u001b[0m\u001b[1m \u001b[0m┃\u001b[1m \u001b[0m\u001b[1m      Param #\u001b[0m\u001b[1m \u001b[0m┃\n",
       "┡━━━━━━━━━━━━━━━━━━━━━━━━━━━━━━━━━╇━━━━━━━━━━━━━━━━━━━━━━━━╇━━━━━━━━━━━━━━━┩\n",
       "│ input_layer (\u001b[38;5;33mInputLayer\u001b[0m)        │ (\u001b[38;5;45mNone\u001b[0m, \u001b[38;5;34m128\u001b[0m, \u001b[38;5;34m167\u001b[0m)       │             \u001b[38;5;34m0\u001b[0m │\n",
       "├─────────────────────────────────┼────────────────────────┼───────────────┤\n",
       "│ permute (\u001b[38;5;33mPermute\u001b[0m)               │ (\u001b[38;5;45mNone\u001b[0m, \u001b[38;5;34m167\u001b[0m, \u001b[38;5;34m128\u001b[0m)       │             \u001b[38;5;34m0\u001b[0m │\n",
       "├─────────────────────────────────┼────────────────────────┼───────────────┤\n",
       "│ lstm (\u001b[38;5;33mLSTM\u001b[0m)                     │ (\u001b[38;5;45mNone\u001b[0m, \u001b[38;5;34m128\u001b[0m)            │       \u001b[38;5;34m131,584\u001b[0m │\n",
       "├─────────────────────────────────┼────────────────────────┼───────────────┤\n",
       "│ flatten (\u001b[38;5;33mFlatten\u001b[0m)               │ (\u001b[38;5;45mNone\u001b[0m, \u001b[38;5;34m128\u001b[0m)            │             \u001b[38;5;34m0\u001b[0m │\n",
       "├─────────────────────────────────┼────────────────────────┼───────────────┤\n",
       "│ dense (\u001b[38;5;33mDense\u001b[0m)                   │ (\u001b[38;5;45mNone\u001b[0m, \u001b[38;5;34m128\u001b[0m)            │        \u001b[38;5;34m16,512\u001b[0m │\n",
       "├─────────────────────────────────┼────────────────────────┼───────────────┤\n",
       "│ dropout (\u001b[38;5;33mDropout\u001b[0m)               │ (\u001b[38;5;45mNone\u001b[0m, \u001b[38;5;34m128\u001b[0m)            │             \u001b[38;5;34m0\u001b[0m │\n",
       "├─────────────────────────────────┼────────────────────────┼───────────────┤\n",
       "│ dense_1 (\u001b[38;5;33mDense\u001b[0m)                 │ (\u001b[38;5;45mNone\u001b[0m, \u001b[38;5;34m10\u001b[0m)             │         \u001b[38;5;34m1,290\u001b[0m │\n",
       "└─────────────────────────────────┴────────────────────────┴───────────────┘\n"
      ]
     },
     "metadata": {},
     "output_type": "display_data"
    },
    {
     "data": {
      "text/html": [
       "<pre style=\"white-space:pre;overflow-x:auto;line-height:normal;font-family:Menlo,'DejaVu Sans Mono',consolas,'Courier New',monospace\"><span style=\"font-weight: bold\"> Total params: </span><span style=\"color: #00af00; text-decoration-color: #00af00\">149,386</span> (583.54 KB)\n",
       "</pre>\n"
      ],
      "text/plain": [
       "\u001b[1m Total params: \u001b[0m\u001b[38;5;34m149,386\u001b[0m (583.54 KB)\n"
      ]
     },
     "metadata": {},
     "output_type": "display_data"
    },
    {
     "data": {
      "text/html": [
       "<pre style=\"white-space:pre;overflow-x:auto;line-height:normal;font-family:Menlo,'DejaVu Sans Mono',consolas,'Courier New',monospace\"><span style=\"font-weight: bold\"> Trainable params: </span><span style=\"color: #00af00; text-decoration-color: #00af00\">149,386</span> (583.54 KB)\n",
       "</pre>\n"
      ],
      "text/plain": [
       "\u001b[1m Trainable params: \u001b[0m\u001b[38;5;34m149,386\u001b[0m (583.54 KB)\n"
      ]
     },
     "metadata": {},
     "output_type": "display_data"
    },
    {
     "data": {
      "text/html": [
       "<pre style=\"white-space:pre;overflow-x:auto;line-height:normal;font-family:Menlo,'DejaVu Sans Mono',consolas,'Courier New',monospace\"><span style=\"font-weight: bold\"> Non-trainable params: </span><span style=\"color: #00af00; text-decoration-color: #00af00\">0</span> (0.00 B)\n",
       "</pre>\n"
      ],
      "text/plain": [
       "\u001b[1m Non-trainable params: \u001b[0m\u001b[38;5;34m0\u001b[0m (0.00 B)\n"
      ]
     },
     "metadata": {},
     "output_type": "display_data"
    }
   ],
   "source": [
    "from keras import regularizers\n",
    "\n",
    "input_data = layers.Input((NUM_CHANNELS_TO_LOAD, SIGNAL_LENGTH))\n",
    "x = layers.Permute((2,1))(input_data)\n",
    "x = layers.LSTM(128, recurrent_activation='leaky_relu', return_sequences=False)(x)\n",
    "x = layers.Flatten()(x)\n",
    "x = layers.Dense(128, activation='leaky_relu', kernel_regularizer=regularizers.L1L2(l1=0, l2=0))(x)\n",
    "x = layers.Dropout(0.3)(x)\n",
    "x = layers.Dense(10, activation='softmax')(x)\n",
    "\n",
    "model = Model(input_data, x)\n",
    "model.compile(optimizer='adam', loss='sparse_categorical_crossentropy', metrics=['accuracy'])\n",
    "model.save_weights('/kaggle/working/best_model.weights.h5')\n",
    "model.summary()"
   ]
  },
  {
   "cell_type": "code",
   "execution_count": 9,
   "id": "395a4fa1",
   "metadata": {
    "execution": {
     "iopub.execute_input": "2024-05-03T12:56:46.655894Z",
     "iopub.status.busy": "2024-05-03T12:56:46.655532Z",
     "iopub.status.idle": "2024-05-03T14:47:53.835197Z",
     "shell.execute_reply": "2024-05-03T14:47:53.833517Z"
    },
    "papermill": {
     "duration": 6667.193215,
     "end_time": "2024-05-03T14:47:53.838070",
     "exception": false,
     "start_time": "2024-05-03T12:56:46.644855",
     "status": "completed"
    },
    "tags": []
   },
   "outputs": [
    {
     "name": "stdout",
     "output_type": "stream",
     "text": [
      "Epoch 1/50\n",
      "\u001b[1m375/375\u001b[0m \u001b[32m━━━━━━━━━━━━━━━━━━━━\u001b[0m\u001b[37m\u001b[0m \u001b[1m119s\u001b[0m 312ms/step - accuracy: 0.0993 - loss: nan - val_accuracy: 0.0979 - val_loss: nan\n",
      "Epoch 2/50\n",
      "\u001b[1m375/375\u001b[0m \u001b[32m━━━━━━━━━━━━━━━━━━━━\u001b[0m\u001b[37m\u001b[0m \u001b[1m113s\u001b[0m 300ms/step - accuracy: 0.0975 - loss: nan - val_accuracy: 0.0979 - val_loss: nan\n",
      "Epoch 3/50\n",
      "\u001b[1m375/375\u001b[0m \u001b[32m━━━━━━━━━━━━━━━━━━━━\u001b[0m\u001b[37m\u001b[0m \u001b[1m144s\u001b[0m 305ms/step - accuracy: 0.0997 - loss: nan - val_accuracy: 0.0979 - val_loss: nan\n",
      "Epoch 4/50\n",
      "\u001b[1m375/375\u001b[0m \u001b[32m━━━━━━━━━━━━━━━━━━━━\u001b[0m\u001b[37m\u001b[0m \u001b[1m141s\u001b[0m 302ms/step - accuracy: 0.0997 - loss: nan - val_accuracy: 0.0979 - val_loss: nan\n",
      "Epoch 5/50\n",
      "\u001b[1m375/375\u001b[0m \u001b[32m━━━━━━━━━━━━━━━━━━━━\u001b[0m\u001b[37m\u001b[0m \u001b[1m146s\u001b[0m 313ms/step - accuracy: 0.1014 - loss: nan - val_accuracy: 0.0979 - val_loss: nan\n",
      "Epoch 6/50\n",
      "\u001b[1m375/375\u001b[0m \u001b[32m━━━━━━━━━━━━━━━━━━━━\u001b[0m\u001b[37m\u001b[0m \u001b[1m114s\u001b[0m 304ms/step - accuracy: 0.1011 - loss: nan - val_accuracy: 0.0979 - val_loss: nan\n",
      "Epoch 7/50\n",
      "\u001b[1m375/375\u001b[0m \u001b[32m━━━━━━━━━━━━━━━━━━━━\u001b[0m\u001b[37m\u001b[0m \u001b[1m140s\u001b[0m 299ms/step - accuracy: 0.0970 - loss: nan - val_accuracy: 0.0979 - val_loss: nan\n",
      "Epoch 8/50\n",
      "\u001b[1m375/375\u001b[0m \u001b[32m━━━━━━━━━━━━━━━━━━━━\u001b[0m\u001b[37m\u001b[0m \u001b[1m143s\u001b[0m 302ms/step - accuracy: 0.0987 - loss: nan - val_accuracy: 0.0979 - val_loss: nan\n",
      "Epoch 9/50\n",
      "\u001b[1m375/375\u001b[0m \u001b[32m━━━━━━━━━━━━━━━━━━━━\u001b[0m\u001b[37m\u001b[0m \u001b[1m141s\u001b[0m 300ms/step - accuracy: 0.0978 - loss: nan - val_accuracy: 0.0979 - val_loss: nan\n",
      "Epoch 10/50\n",
      "\u001b[1m375/375\u001b[0m \u001b[32m━━━━━━━━━━━━━━━━━━━━\u001b[0m\u001b[37m\u001b[0m \u001b[1m142s\u001b[0m 300ms/step - accuracy: 0.1007 - loss: nan - val_accuracy: 0.0979 - val_loss: nan\n",
      "Epoch 11/50\n",
      "\u001b[1m375/375\u001b[0m \u001b[32m━━━━━━━━━━━━━━━━━━━━\u001b[0m\u001b[37m\u001b[0m \u001b[1m116s\u001b[0m 308ms/step - accuracy: 0.0973 - loss: nan - val_accuracy: 0.0979 - val_loss: nan\n",
      "Epoch 12/50\n",
      "\u001b[1m375/375\u001b[0m \u001b[32m━━━━━━━━━━━━━━━━━━━━\u001b[0m\u001b[37m\u001b[0m \u001b[1m120s\u001b[0m 319ms/step - accuracy: 0.1000 - loss: nan - val_accuracy: 0.0979 - val_loss: nan\n",
      "Epoch 13/50\n",
      "\u001b[1m375/375\u001b[0m \u001b[32m━━━━━━━━━━━━━━━━━━━━\u001b[0m\u001b[37m\u001b[0m \u001b[1m136s\u001b[0m 304ms/step - accuracy: 0.1010 - loss: nan - val_accuracy: 0.0979 - val_loss: nan\n",
      "Epoch 14/50\n",
      "\u001b[1m375/375\u001b[0m \u001b[32m━━━━━━━━━━━━━━━━━━━━\u001b[0m\u001b[37m\u001b[0m \u001b[1m142s\u001b[0m 305ms/step - accuracy: 0.0976 - loss: nan - val_accuracy: 0.0979 - val_loss: nan\n",
      "Epoch 15/50\n",
      "\u001b[1m375/375\u001b[0m \u001b[32m━━━━━━━━━━━━━━━━━━━━\u001b[0m\u001b[37m\u001b[0m \u001b[1m112s\u001b[0m 298ms/step - accuracy: 0.0985 - loss: nan - val_accuracy: 0.0979 - val_loss: nan\n",
      "Epoch 16/50\n",
      "\u001b[1m375/375\u001b[0m \u001b[32m━━━━━━━━━━━━━━━━━━━━\u001b[0m\u001b[37m\u001b[0m \u001b[1m145s\u001b[0m 307ms/step - accuracy: 0.0996 - loss: nan - val_accuracy: 0.0979 - val_loss: nan\n",
      "Epoch 17/50\n",
      "\u001b[1m375/375\u001b[0m \u001b[32m━━━━━━━━━━━━━━━━━━━━\u001b[0m\u001b[37m\u001b[0m \u001b[1m114s\u001b[0m 305ms/step - accuracy: 0.1001 - loss: nan - val_accuracy: 0.0979 - val_loss: nan\n",
      "Epoch 18/50\n",
      "\u001b[1m375/375\u001b[0m \u001b[32m━━━━━━━━━━━━━━━━━━━━\u001b[0m\u001b[37m\u001b[0m \u001b[1m141s\u001b[0m 303ms/step - accuracy: 0.0989 - loss: nan - val_accuracy: 0.0979 - val_loss: nan\n",
      "Epoch 19/50\n",
      "\u001b[1m375/375\u001b[0m \u001b[32m━━━━━━━━━━━━━━━━━━━━\u001b[0m\u001b[37m\u001b[0m \u001b[1m148s\u001b[0m 320ms/step - accuracy: 0.1018 - loss: nan - val_accuracy: 0.0979 - val_loss: nan\n",
      "Epoch 20/50\n",
      "\u001b[1m375/375\u001b[0m \u001b[32m━━━━━━━━━━━━━━━━━━━━\u001b[0m\u001b[37m\u001b[0m \u001b[1m117s\u001b[0m 313ms/step - accuracy: 0.1016 - loss: nan - val_accuracy: 0.0979 - val_loss: nan\n",
      "Epoch 21/50\n",
      "\u001b[1m375/375\u001b[0m \u001b[32m━━━━━━━━━━━━━━━━━━━━\u001b[0m\u001b[37m\u001b[0m \u001b[1m144s\u001b[0m 317ms/step - accuracy: 0.0985 - loss: nan - val_accuracy: 0.0979 - val_loss: nan\n",
      "Epoch 22/50\n",
      "\u001b[1m375/375\u001b[0m \u001b[32m━━━━━━━━━━━━━━━━━━━━\u001b[0m\u001b[37m\u001b[0m \u001b[1m137s\u001b[0m 305ms/step - accuracy: 0.0983 - loss: nan - val_accuracy: 0.0979 - val_loss: nan\n",
      "Epoch 23/50\n",
      "\u001b[1m375/375\u001b[0m \u001b[32m━━━━━━━━━━━━━━━━━━━━\u001b[0m\u001b[37m\u001b[0m \u001b[1m148s\u001b[0m 320ms/step - accuracy: 0.0966 - loss: nan - val_accuracy: 0.0979 - val_loss: nan\n",
      "Epoch 24/50\n",
      "\u001b[1m375/375\u001b[0m \u001b[32m━━━━━━━━━━━━━━━━━━━━\u001b[0m\u001b[37m\u001b[0m \u001b[1m135s\u001b[0m 302ms/step - accuracy: 0.0991 - loss: nan - val_accuracy: 0.0979 - val_loss: nan\n",
      "Epoch 25/50\n",
      "\u001b[1m375/375\u001b[0m \u001b[32m━━━━━━━━━━━━━━━━━━━━\u001b[0m\u001b[37m\u001b[0m \u001b[1m148s\u001b[0m 320ms/step - accuracy: 0.0998 - loss: nan - val_accuracy: 0.0979 - val_loss: nan\n",
      "Epoch 26/50\n",
      "\u001b[1m375/375\u001b[0m \u001b[32m━━━━━━━━━━━━━━━━━━━━\u001b[0m\u001b[37m\u001b[0m \u001b[1m138s\u001b[0m 308ms/step - accuracy: 0.0995 - loss: nan - val_accuracy: 0.0979 - val_loss: nan\n",
      "Epoch 27/50\n",
      "\u001b[1m375/375\u001b[0m \u001b[32m━━━━━━━━━━━━━━━━━━━━\u001b[0m\u001b[37m\u001b[0m \u001b[1m120s\u001b[0m 319ms/step - accuracy: 0.0966 - loss: nan - val_accuracy: 0.0979 - val_loss: nan\n",
      "Epoch 28/50\n",
      "\u001b[1m375/375\u001b[0m \u001b[32m━━━━━━━━━━━━━━━━━━━━\u001b[0m\u001b[37m\u001b[0m \u001b[1m136s\u001b[0m 304ms/step - accuracy: 0.0986 - loss: nan - val_accuracy: 0.0979 - val_loss: nan\n",
      "Epoch 29/50\n",
      "\u001b[1m375/375\u001b[0m \u001b[32m━━━━━━━━━━━━━━━━━━━━\u001b[0m\u001b[37m\u001b[0m \u001b[1m113s\u001b[0m 302ms/step - accuracy: 0.0991 - loss: nan - val_accuracy: 0.0979 - val_loss: nan\n",
      "Epoch 30/50\n",
      "\u001b[1m375/375\u001b[0m \u001b[32m━━━━━━━━━━━━━━━━━━━━\u001b[0m\u001b[37m\u001b[0m \u001b[1m147s\u001b[0m 317ms/step - accuracy: 0.0989 - loss: nan - val_accuracy: 0.0979 - val_loss: nan\n",
      "Epoch 31/50\n",
      "\u001b[1m375/375\u001b[0m \u001b[32m━━━━━━━━━━━━━━━━━━━━\u001b[0m\u001b[37m\u001b[0m \u001b[1m138s\u001b[0m 306ms/step - accuracy: 0.0992 - loss: nan - val_accuracy: 0.0979 - val_loss: nan\n",
      "Epoch 32/50\n",
      "\u001b[1m375/375\u001b[0m \u001b[32m━━━━━━━━━━━━━━━━━━━━\u001b[0m\u001b[37m\u001b[0m \u001b[1m125s\u001b[0m 334ms/step - accuracy: 0.0968 - loss: nan - val_accuracy: 0.0979 - val_loss: nan\n",
      "Epoch 33/50\n",
      "\u001b[1m375/375\u001b[0m \u001b[32m━━━━━━━━━━━━━━━━━━━━\u001b[0m\u001b[37m\u001b[0m \u001b[1m117s\u001b[0m 312ms/step - accuracy: 0.0988 - loss: nan - val_accuracy: 0.0979 - val_loss: nan\n",
      "Epoch 34/50\n",
      "\u001b[1m375/375\u001b[0m \u001b[32m━━━━━━━━━━━━━━━━━━━━\u001b[0m\u001b[37m\u001b[0m \u001b[1m147s\u001b[0m 327ms/step - accuracy: 0.0952 - loss: nan - val_accuracy: 0.0979 - val_loss: nan\n",
      "Epoch 35/50\n",
      "\u001b[1m375/375\u001b[0m \u001b[32m━━━━━━━━━━━━━━━━━━━━\u001b[0m\u001b[37m\u001b[0m \u001b[1m138s\u001b[0m 315ms/step - accuracy: 0.0975 - loss: nan - val_accuracy: 0.0979 - val_loss: nan\n",
      "Epoch 36/50\n",
      "\u001b[1m375/375\u001b[0m \u001b[32m━━━━━━━━━━━━━━━━━━━━\u001b[0m\u001b[37m\u001b[0m \u001b[1m120s\u001b[0m 319ms/step - accuracy: 0.0987 - loss: nan - val_accuracy: 0.0979 - val_loss: nan\n",
      "Epoch 37/50\n",
      "\u001b[1m375/375\u001b[0m \u001b[32m━━━━━━━━━━━━━━━━━━━━\u001b[0m\u001b[37m\u001b[0m \u001b[1m122s\u001b[0m 325ms/step - accuracy: 0.0963 - loss: nan - val_accuracy: 0.0979 - val_loss: nan\n",
      "Epoch 38/50\n",
      "\u001b[1m375/375\u001b[0m \u001b[32m━━━━━━━━━━━━━━━━━━━━\u001b[0m\u001b[37m\u001b[0m \u001b[1m115s\u001b[0m 307ms/step - accuracy: 0.0950 - loss: nan - val_accuracy: 0.0979 - val_loss: nan\n",
      "Epoch 39/50\n",
      "\u001b[1m375/375\u001b[0m \u001b[32m━━━━━━━━━━━━━━━━━━━━\u001b[0m\u001b[37m\u001b[0m \u001b[1m151s\u001b[0m 333ms/step - accuracy: 0.0990 - loss: nan - val_accuracy: 0.0979 - val_loss: nan\n",
      "Epoch 40/50\n",
      "\u001b[1m375/375\u001b[0m \u001b[32m━━━━━━━━━━━━━━━━━━━━\u001b[0m\u001b[37m\u001b[0m \u001b[1m132s\u001b[0m 307ms/step - accuracy: 0.1004 - loss: nan - val_accuracy: 0.0979 - val_loss: nan\n",
      "Epoch 41/50\n",
      "\u001b[1m375/375\u001b[0m \u001b[32m━━━━━━━━━━━━━━━━━━━━\u001b[0m\u001b[37m\u001b[0m \u001b[1m122s\u001b[0m 326ms/step - accuracy: 0.0978 - loss: nan - val_accuracy: 0.0979 - val_loss: nan\n",
      "Epoch 42/50\n",
      "\u001b[1m375/375\u001b[0m \u001b[32m━━━━━━━━━━━━━━━━━━━━\u001b[0m\u001b[37m\u001b[0m \u001b[1m141s\u001b[0m 325ms/step - accuracy: 0.1000 - loss: nan - val_accuracy: 0.0979 - val_loss: nan\n",
      "Epoch 43/50\n",
      "\u001b[1m375/375\u001b[0m \u001b[32m━━━━━━━━━━━━━━━━━━━━\u001b[0m\u001b[37m\u001b[0m \u001b[1m137s\u001b[0m 312ms/step - accuracy: 0.0969 - loss: nan - val_accuracy: 0.0979 - val_loss: nan\n",
      "Epoch 44/50\n",
      "\u001b[1m375/375\u001b[0m \u001b[32m━━━━━━━━━━━━━━━━━━━━\u001b[0m\u001b[37m\u001b[0m \u001b[1m139s\u001b[0m 306ms/step - accuracy: 0.0996 - loss: nan - val_accuracy: 0.0979 - val_loss: nan\n",
      "Epoch 45/50\n",
      "\u001b[1m375/375\u001b[0m \u001b[32m━━━━━━━━━━━━━━━━━━━━\u001b[0m\u001b[37m\u001b[0m \u001b[1m114s\u001b[0m 305ms/step - accuracy: 0.0989 - loss: nan - val_accuracy: 0.0979 - val_loss: nan\n",
      "Epoch 46/50\n",
      "\u001b[1m375/375\u001b[0m \u001b[32m━━━━━━━━━━━━━━━━━━━━\u001b[0m\u001b[37m\u001b[0m \u001b[1m145s\u001b[0m 313ms/step - accuracy: 0.0980 - loss: nan - val_accuracy: 0.0979 - val_loss: nan\n",
      "Epoch 47/50\n",
      "\u001b[1m375/375\u001b[0m \u001b[32m━━━━━━━━━━━━━━━━━━━━\u001b[0m\u001b[37m\u001b[0m \u001b[1m141s\u001b[0m 310ms/step - accuracy: 0.0967 - loss: nan - val_accuracy: 0.0979 - val_loss: nan\n",
      "Epoch 48/50\n",
      "\u001b[1m375/375\u001b[0m \u001b[32m━━━━━━━━━━━━━━━━━━━━\u001b[0m\u001b[37m\u001b[0m \u001b[1m143s\u001b[0m 313ms/step - accuracy: 0.1027 - loss: nan - val_accuracy: 0.0979 - val_loss: nan\n",
      "Epoch 49/50\n",
      "\u001b[1m375/375\u001b[0m \u001b[32m━━━━━━━━━━━━━━━━━━━━\u001b[0m\u001b[37m\u001b[0m \u001b[1m114s\u001b[0m 303ms/step - accuracy: 0.1001 - loss: nan - val_accuracy: 0.0979 - val_loss: nan\n",
      "Epoch 50/50\n",
      "\u001b[1m375/375\u001b[0m \u001b[32m━━━━━━━━━━━━━━━━━━━━\u001b[0m\u001b[37m\u001b[0m \u001b[1m150s\u001b[0m 324ms/step - accuracy: 0.0991 - loss: nan - val_accuracy: 0.0979 - val_loss: nan\n"
     ]
    }
   ],
   "source": [
    "from sklearn.model_selection import train_test_split\n",
    "train, test, train_y, test_y = train_test_split(datasets, labels, test_size=0.2, random_state=42, shuffle=True)\n",
    "history = model.fit(train, train_y, validation_data=(test, test_y), batch_size=128, epochs=50)"
   ]
  },
  {
   "cell_type": "code",
   "execution_count": 10,
   "id": "e80f2e7d",
   "metadata": {
    "execution": {
     "iopub.execute_input": "2024-05-03T14:47:56.511862Z",
     "iopub.status.busy": "2024-05-03T14:47:56.511404Z",
     "iopub.status.idle": "2024-05-03T14:47:57.307371Z",
     "shell.execute_reply": "2024-05-03T14:47:57.306072Z"
    },
    "papermill": {
     "duration": 2.174512,
     "end_time": "2024-05-03T14:47:57.309906",
     "exception": false,
     "start_time": "2024-05-03T14:47:55.135394",
     "status": "completed"
    },
    "tags": []
   },
   "outputs": [
    {
     "data": {
      "text/plain": [
       "Text(0.5, 1.0, 'Accuracy during Training')"
      ]
     },
     "execution_count": 10,
     "metadata": {},
     "output_type": "execute_result"
    },
    {
     "data": {
      "image/png": "[encoded data removed]",
      "text/plain": [
       "<Figure size 640x480 with 1 Axes>"
      ]
     },
     "metadata": {},
     "output_type": "display_data"
    }
   ],
   "source": [
    "plt.plot(history.history['accuracy'], label='accuracy')\n",
    "plt.plot(history.history['val_accuracy'], label='val_accuracy')\n",
    "plt.legend()\n",
    "plt.xlabel(\"Epoch\")\n",
    "plt.ylabel(\"Loss\")\n",
    "plt.title(\"Accuracy during Training\")"
   ]
  },
  {
   "cell_type": "code",
   "execution_count": 11,
   "id": "794799fe",
   "metadata": {
    "execution": {
     "iopub.execute_input": "2024-05-03T14:48:03.410319Z",
     "iopub.status.busy": "2024-05-03T14:48:03.408957Z",
     "iopub.status.idle": "2024-05-03T16:38:02.626078Z",
     "shell.execute_reply": "2024-05-03T16:38:02.623843Z"
    },
    "papermill": {
     "duration": 6602.021318,
     "end_time": "2024-05-03T16:38:02.629804",
     "exception": false,
     "start_time": "2024-05-03T14:48:00.608486",
     "status": "completed"
    },
    "tags": []
   },
   "outputs": [
    {
     "name": "stdout",
     "output_type": "stream",
     "text": [
      "Epoch 1/50\n",
      "\u001b[1m375/375\u001b[0m \u001b[32m━━━━━━━━━━━━━━━━━━━━\u001b[0m\u001b[37m\u001b[0m \u001b[1m119s\u001b[0m 311ms/step - accuracy: 0.0986 - loss: nan - val_accuracy: 0.0995 - val_loss: nan\n",
      "Epoch 2/50\n",
      "\u001b[1m375/375\u001b[0m \u001b[32m━━━━━━━━━━━━━━━━━━━━\u001b[0m\u001b[37m\u001b[0m \u001b[1m119s\u001b[0m 317ms/step - accuracy: 0.1000 - loss: nan - val_accuracy: 0.0995 - val_loss: nan\n",
      "Epoch 3/50\n",
      "\u001b[1m375/375\u001b[0m \u001b[32m━━━━━━━━━━━━━━━━━━━━\u001b[0m\u001b[37m\u001b[0m \u001b[1m114s\u001b[0m 304ms/step - accuracy: 0.0992 - loss: nan - val_accuracy: 0.0995 - val_loss: nan\n",
      "Epoch 4/50\n",
      "\u001b[1m375/375\u001b[0m \u001b[32m━━━━━━━━━━━━━━━━━━━━\u001b[0m\u001b[37m\u001b[0m \u001b[1m116s\u001b[0m 308ms/step - accuracy: 0.0998 - loss: nan - val_accuracy: 0.0995 - val_loss: nan\n",
      "Epoch 5/50\n",
      "\u001b[1m375/375\u001b[0m \u001b[32m━━━━━━━━━━━━━━━━━━━━\u001b[0m\u001b[37m\u001b[0m \u001b[1m150s\u001b[0m 331ms/step - accuracy: 0.0985 - loss: nan - val_accuracy: 0.0995 - val_loss: nan\n",
      "Epoch 6/50\n",
      "\u001b[1m375/375\u001b[0m \u001b[32m━━━━━━━━━━━━━━━━━━━━\u001b[0m\u001b[37m\u001b[0m \u001b[1m116s\u001b[0m 308ms/step - accuracy: 0.0988 - loss: nan - val_accuracy: 0.0995 - val_loss: nan\n",
      "Epoch 7/50\n",
      "\u001b[1m375/375\u001b[0m \u001b[32m━━━━━━━━━━━━━━━━━━━━\u001b[0m\u001b[37m\u001b[0m \u001b[1m121s\u001b[0m 322ms/step - accuracy: 0.0972 - loss: nan - val_accuracy: 0.0995 - val_loss: nan\n",
      "Epoch 8/50\n",
      "\u001b[1m375/375\u001b[0m \u001b[32m━━━━━━━━━━━━━━━━━━━━\u001b[0m\u001b[37m\u001b[0m \u001b[1m115s\u001b[0m 306ms/step - accuracy: 0.0989 - loss: nan - val_accuracy: 0.0995 - val_loss: nan\n",
      "Epoch 9/50\n",
      "\u001b[1m375/375\u001b[0m \u001b[32m━━━━━━━━━━━━━━━━━━━━\u001b[0m\u001b[37m\u001b[0m \u001b[1m119s\u001b[0m 317ms/step - accuracy: 0.1005 - loss: nan - val_accuracy: 0.0995 - val_loss: nan\n",
      "Epoch 10/50\n",
      "\u001b[1m375/375\u001b[0m \u001b[32m━━━━━━━━━━━━━━━━━━━━\u001b[0m\u001b[37m\u001b[0m \u001b[1m122s\u001b[0m 326ms/step - accuracy: 0.0972 - loss: nan - val_accuracy: 0.0995 - val_loss: nan\n",
      "Epoch 11/50\n",
      "\u001b[1m375/375\u001b[0m \u001b[32m━━━━━━━━━━━━━━━━━━━━\u001b[0m\u001b[37m\u001b[0m \u001b[1m137s\u001b[0m 312ms/step - accuracy: 0.0992 - loss: nan - val_accuracy: 0.0995 - val_loss: nan\n",
      "Epoch 12/50\n",
      "\u001b[1m375/375\u001b[0m \u001b[32m━━━━━━━━━━━━━━━━━━━━\u001b[0m\u001b[37m\u001b[0m \u001b[1m143s\u001b[0m 316ms/step - accuracy: 0.1011 - loss: nan - val_accuracy: 0.0995 - val_loss: nan\n",
      "Epoch 13/50\n",
      "\u001b[1m375/375\u001b[0m \u001b[32m━━━━━━━━━━━━━━━━━━━━\u001b[0m\u001b[37m\u001b[0m \u001b[1m148s\u001b[0m 333ms/step - accuracy: 0.0967 - loss: nan - val_accuracy: 0.0995 - val_loss: nan\n",
      "Epoch 14/50\n",
      "\u001b[1m375/375\u001b[0m \u001b[32m━━━━━━━━━━━━━━━━━━━━\u001b[0m\u001b[37m\u001b[0m \u001b[1m143s\u001b[0m 337ms/step - accuracy: 0.0965 - loss: nan - val_accuracy: 0.0995 - val_loss: nan\n",
      "Epoch 15/50\n",
      "\u001b[1m375/375\u001b[0m \u001b[32m━━━━━━━━━━━━━━━━━━━━\u001b[0m\u001b[37m\u001b[0m \u001b[1m117s\u001b[0m 312ms/step - accuracy: 0.0987 - loss: nan - val_accuracy: 0.0995 - val_loss: nan\n",
      "Epoch 16/50\n",
      "\u001b[1m375/375\u001b[0m \u001b[32m━━━━━━━━━━━━━━━━━━━━\u001b[0m\u001b[37m\u001b[0m \u001b[1m150s\u001b[0m 333ms/step - accuracy: 0.0974 - loss: nan - val_accuracy: 0.0995 - val_loss: nan\n",
      "Epoch 17/50\n",
      "\u001b[1m375/375\u001b[0m \u001b[32m━━━━━━━━━━━━━━━━━━━━\u001b[0m\u001b[37m\u001b[0m \u001b[1m134s\u001b[0m 311ms/step - accuracy: 0.0984 - loss: nan - val_accuracy: 0.0995 - val_loss: nan\n",
      "Epoch 18/50\n",
      "\u001b[1m375/375\u001b[0m \u001b[32m━━━━━━━━━━━━━━━━━━━━\u001b[0m\u001b[37m\u001b[0m \u001b[1m144s\u001b[0m 318ms/step - accuracy: 0.0986 - loss: nan - val_accuracy: 0.0995 - val_loss: nan\n",
      "Epoch 19/50\n",
      "\u001b[1m375/375\u001b[0m \u001b[32m━━━━━━━━━━━━━━━━━━━━\u001b[0m\u001b[37m\u001b[0m \u001b[1m140s\u001b[0m 312ms/step - accuracy: 0.0986 - loss: nan - val_accuracy: 0.0995 - val_loss: nan\n",
      "Epoch 20/50\n",
      "\u001b[1m375/375\u001b[0m \u001b[32m━━━━━━━━━━━━━━━━━━━━\u001b[0m\u001b[37m\u001b[0m \u001b[1m143s\u001b[0m 314ms/step - accuracy: 0.0999 - loss: nan - val_accuracy: 0.0995 - val_loss: nan\n",
      "Epoch 21/50\n",
      "\u001b[1m375/375\u001b[0m \u001b[32m━━━━━━━━━━━━━━━━━━━━\u001b[0m\u001b[37m\u001b[0m \u001b[1m140s\u001b[0m 310ms/step - accuracy: 0.0980 - loss: nan - val_accuracy: 0.0995 - val_loss: nan\n",
      "Epoch 22/50\n",
      "\u001b[1m375/375\u001b[0m \u001b[32m━━━━━━━━━━━━━━━━━━━━\u001b[0m\u001b[37m\u001b[0m \u001b[1m114s\u001b[0m 305ms/step - accuracy: 0.0962 - loss: nan - val_accuracy: 0.0995 - val_loss: nan\n",
      "Epoch 23/50\n",
      "\u001b[1m375/375\u001b[0m \u001b[32m━━━━━━━━━━━━━━━━━━━━\u001b[0m\u001b[37m\u001b[0m \u001b[1m119s\u001b[0m 317ms/step - accuracy: 0.0992 - loss: nan - val_accuracy: 0.0995 - val_loss: nan\n",
      "Epoch 24/50\n",
      "\u001b[1m375/375\u001b[0m \u001b[32m━━━━━━━━━━━━━━━━━━━━\u001b[0m\u001b[37m\u001b[0m \u001b[1m144s\u001b[0m 323ms/step - accuracy: 0.0978 - loss: nan - val_accuracy: 0.0995 - val_loss: nan\n",
      "Epoch 25/50\n",
      "\u001b[1m375/375\u001b[0m \u001b[32m━━━━━━━━━━━━━━━━━━━━\u001b[0m\u001b[37m\u001b[0m \u001b[1m125s\u001b[0m 333ms/step - accuracy: 0.0986 - loss: nan - val_accuracy: 0.0995 - val_loss: nan\n",
      "Epoch 26/50\n",
      "\u001b[1m375/375\u001b[0m \u001b[32m━━━━━━━━━━━━━━━━━━━━\u001b[0m\u001b[37m\u001b[0m \u001b[1m134s\u001b[0m 312ms/step - accuracy: 0.1008 - loss: nan - val_accuracy: 0.0995 - val_loss: nan\n",
      "Epoch 27/50\n",
      "\u001b[1m375/375\u001b[0m \u001b[32m━━━━━━━━━━━━━━━━━━━━\u001b[0m\u001b[37m\u001b[0m \u001b[1m134s\u001b[0m 356ms/step - accuracy: 0.0986 - loss: nan - val_accuracy: 0.0995 - val_loss: nan\n",
      "Epoch 28/50\n",
      "\u001b[1m375/375\u001b[0m \u001b[32m━━━━━━━━━━━━━━━━━━━━\u001b[0m\u001b[37m\u001b[0m \u001b[1m120s\u001b[0m 319ms/step - accuracy: 0.0979 - loss: nan - val_accuracy: 0.0995 - val_loss: nan\n",
      "Epoch 29/50\n",
      "\u001b[1m375/375\u001b[0m \u001b[32m━━━━━━━━━━━━━━━━━━━━\u001b[0m\u001b[37m\u001b[0m \u001b[1m141s\u001b[0m 318ms/step - accuracy: 0.0980 - loss: nan - val_accuracy: 0.0995 - val_loss: nan\n",
      "Epoch 30/50\n",
      "\u001b[1m375/375\u001b[0m \u001b[32m━━━━━━━━━━━━━━━━━━━━\u001b[0m\u001b[37m\u001b[0m \u001b[1m124s\u001b[0m 329ms/step - accuracy: 0.0967 - loss: nan - val_accuracy: 0.0995 - val_loss: nan\n",
      "Epoch 31/50\n",
      "\u001b[1m375/375\u001b[0m \u001b[32m━━━━━━━━━━━━━━━━━━━━\u001b[0m\u001b[37m\u001b[0m \u001b[1m136s\u001b[0m 313ms/step - accuracy: 0.0979 - loss: nan - val_accuracy: 0.0995 - val_loss: nan\n",
      "Epoch 32/50\n",
      "\u001b[1m375/375\u001b[0m \u001b[32m━━━━━━━━━━━━━━━━━━━━\u001b[0m\u001b[37m\u001b[0m \u001b[1m122s\u001b[0m 325ms/step - accuracy: 0.0979 - loss: nan - val_accuracy: 0.0995 - val_loss: nan\n",
      "Epoch 33/50\n",
      "\u001b[1m375/375\u001b[0m \u001b[32m━━━━━━━━━━━━━━━━━━━━\u001b[0m\u001b[37m\u001b[0m \u001b[1m116s\u001b[0m 308ms/step - accuracy: 0.0994 - loss: nan - val_accuracy: 0.0995 - val_loss: nan\n",
      "Epoch 34/50\n",
      "\u001b[1m375/375\u001b[0m \u001b[32m━━━━━━━━━━━━━━━━━━━━\u001b[0m\u001b[37m\u001b[0m \u001b[1m126s\u001b[0m 336ms/step - accuracy: 0.0996 - loss: nan - val_accuracy: 0.0995 - val_loss: nan\n",
      "Epoch 35/50\n",
      "\u001b[1m375/375\u001b[0m \u001b[32m━━━━━━━━━━━━━━━━━━━━\u001b[0m\u001b[37m\u001b[0m \u001b[1m121s\u001b[0m 323ms/step - accuracy: 0.0998 - loss: nan - val_accuracy: 0.0995 - val_loss: nan\n",
      "Epoch 36/50\n",
      "\u001b[1m375/375\u001b[0m \u001b[32m━━━━━━━━━━━━━━━━━━━━\u001b[0m\u001b[37m\u001b[0m \u001b[1m116s\u001b[0m 308ms/step - accuracy: 0.1001 - loss: nan - val_accuracy: 0.0995 - val_loss: nan\n",
      "Epoch 37/50\n",
      "\u001b[1m375/375\u001b[0m \u001b[32m━━━━━━━━━━━━━━━━━━━━\u001b[0m\u001b[37m\u001b[0m \u001b[1m121s\u001b[0m 324ms/step - accuracy: 0.0964 - loss: nan - val_accuracy: 0.0995 - val_loss: nan\n",
      "Epoch 38/50\n",
      "\u001b[1m375/375\u001b[0m \u001b[32m━━━━━━━━━━━━━━━━━━━━\u001b[0m\u001b[37m\u001b[0m \u001b[1m136s\u001b[0m 307ms/step - accuracy: 0.0976 - loss: nan - val_accuracy: 0.0995 - val_loss: nan\n",
      "Epoch 39/50\n",
      "\u001b[1m375/375\u001b[0m \u001b[32m━━━━━━━━━━━━━━━━━━━━\u001b[0m\u001b[37m\u001b[0m \u001b[1m145s\u001b[0m 315ms/step - accuracy: 0.0993 - loss: nan - val_accuracy: 0.0995 - val_loss: nan\n",
      "Epoch 40/50\n",
      "\u001b[1m375/375\u001b[0m \u001b[32m━━━━━━━━━━━━━━━━━━━━\u001b[0m\u001b[37m\u001b[0m \u001b[1m138s\u001b[0m 305ms/step - accuracy: 0.0993 - loss: nan - val_accuracy: 0.0995 - val_loss: nan\n",
      "Epoch 41/50\n",
      "\u001b[1m375/375\u001b[0m \u001b[32m━━━━━━━━━━━━━━━━━━━━\u001b[0m\u001b[37m\u001b[0m \u001b[1m151s\u001b[0m 329ms/step - accuracy: 0.1000 - loss: nan - val_accuracy: 0.0995 - val_loss: nan\n",
      "Epoch 42/50\n",
      "\u001b[1m375/375\u001b[0m \u001b[32m━━━━━━━━━━━━━━━━━━━━\u001b[0m\u001b[37m\u001b[0m \u001b[1m137s\u001b[0m 317ms/step - accuracy: 0.0986 - loss: nan - val_accuracy: 0.0995 - val_loss: nan\n",
      "Epoch 43/50\n",
      "\u001b[1m375/375\u001b[0m \u001b[32m━━━━━━━━━━━━━━━━━━━━\u001b[0m\u001b[37m\u001b[0m \u001b[1m141s\u001b[0m 315ms/step - accuracy: 0.1006 - loss: nan - val_accuracy: 0.0995 - val_loss: nan\n",
      "Epoch 44/50\n",
      "\u001b[1m375/375\u001b[0m \u001b[32m━━━━━━━━━━━━━━━━━━━━\u001b[0m\u001b[37m\u001b[0m \u001b[1m118s\u001b[0m 314ms/step - accuracy: 0.0981 - loss: nan - val_accuracy: 0.0995 - val_loss: nan\n",
      "Epoch 45/50\n",
      "\u001b[1m375/375\u001b[0m \u001b[32m━━━━━━━━━━━━━━━━━━━━\u001b[0m\u001b[37m\u001b[0m \u001b[1m116s\u001b[0m 310ms/step - accuracy: 0.0981 - loss: nan - val_accuracy: 0.0995 - val_loss: nan\n",
      "Epoch 46/50\n",
      "\u001b[1m375/375\u001b[0m \u001b[32m━━━━━━━━━━━━━━━━━━━━\u001b[0m\u001b[37m\u001b[0m \u001b[1m148s\u001b[0m 326ms/step - accuracy: 0.0978 - loss: nan - val_accuracy: 0.0995 - val_loss: nan\n",
      "Epoch 47/50\n",
      "\u001b[1m375/375\u001b[0m \u001b[32m━━━━━━━━━━━━━━━━━━━━\u001b[0m\u001b[37m\u001b[0m \u001b[1m137s\u001b[0m 313ms/step - accuracy: 0.0975 - loss: nan - val_accuracy: 0.0995 - val_loss: nan\n",
      "Epoch 48/50\n",
      "\u001b[1m375/375\u001b[0m \u001b[32m━━━━━━━━━━━━━━━━━━━━\u001b[0m\u001b[37m\u001b[0m \u001b[1m153s\u001b[0m 341ms/step - accuracy: 0.0975 - loss: nan - val_accuracy: 0.0995 - val_loss: nan\n",
      "Epoch 49/50\n",
      "\u001b[1m375/375\u001b[0m \u001b[32m━━━━━━━━━━━━━━━━━━━━\u001b[0m\u001b[37m\u001b[0m \u001b[1m119s\u001b[0m 317ms/step - accuracy: 0.0992 - loss: nan - val_accuracy: 0.0995 - val_loss: nan\n",
      "Epoch 50/50\n",
      "\u001b[1m375/375\u001b[0m \u001b[32m━━━━━━━━━━━━━━━━━━━━\u001b[0m\u001b[37m\u001b[0m \u001b[1m139s\u001b[0m 310ms/step - accuracy: 0.0982 - loss: nan - val_accuracy: 0.0995 - val_loss: nan\n"
     ]
    }
   ],
   "source": [
    "train, test, train_y, test_y = train_test_split(datasets, labels, test_size=0.2, shuffle=False)\n",
    "model = Model(input_data, x)\n",
    "model.compile(optimizer='adam', loss='sparse_categorical_crossentropy', metrics=['accuracy'])\n",
    "model.load_weights('/kaggle/working/best_model.weights.h5')\n",
    "history = model.fit(train, train_y, validation_data=(test, test_y), batch_size=128, epochs=50)"
   ]
  },
  {
   "cell_type": "code",
   "execution_count": 12,
   "id": "cff76fcf",
   "metadata": {
    "execution": {
     "iopub.execute_input": "2024-05-03T16:38:08.027362Z",
     "iopub.status.busy": "2024-05-03T16:38:08.026709Z",
     "iopub.status.idle": "2024-05-03T16:38:08.360028Z",
     "shell.execute_reply": "2024-05-03T16:38:08.359224Z"
    },
    "papermill": {
     "duration": 2.996583,
     "end_time": "2024-05-03T16:38:08.362035",
     "exception": false,
     "start_time": "2024-05-03T16:38:05.365452",
     "status": "completed"
    },
    "tags": []
   },
   "outputs": [
    {
     "data": {
      "text/plain": [
       "Text(0.5, 1.0, 'Accuracy during Training')"
      ]
     },
     "execution_count": 12,
     "metadata": {},
     "output_type": "execute_result"
    },
    {
     "data": {
      "image/png": "[encoded data removed]",
      "text/plain": [
       "<Figure size 640x480 with 1 Axes>"
      ]
     },
     "metadata": {},
     "output_type": "display_data"
    }
   ],
   "source": [
    "plt.plot(history.history['accuracy'], label='accuracy')\n",
    "plt.plot(history.history['val_accuracy'], label='val_accuracy')\n",
    "plt.legend()\n",
    "plt.xlabel(\"Epoch\")\n",
    "plt.ylabel(\"Loss\")\n",
    "plt.title(\"Accuracy during Training\")"
   ]
  }
 ],
 "metadata": {
  "kaggle": {
   "accelerator": "none",
   "dataSources": [
    {
     "datasetId": 4779564,
     "sourceId": 8095088,
     "sourceType": "datasetVersion"
    },
    {
     "datasetId": 4880596,
     "sourceId": 8230093,
     "sourceType": "datasetVersion"
    },
    {
     "datasetId": 4896659,
     "sourceId": 8252251,
     "sourceType": "datasetVersion"
    }
   ],
   "dockerImageVersionId": 30698,
   "isGpuEnabled": false,
   "isInternetEnabled": true,
   "language": "python",
   "sourceType": "notebook"
  },
  "kernelspec": {
   "display_name": "Python 3",
   "language": "python",
   "name": "python3"
  },
  "language_info": {
   "codemirror_mode": {
    "name": "ipython",
    "version": 3
   },
   "file_extension": ".py",
   "mimetype": "text/x-python",
   "name": "python",
   "nbconvert_exporter": "python",
   "pygments_lexer": "ipython3",
   "version": "3.10.13"
  },
  "papermill": {
   "default_parameters": {},
   "duration": 14913.373072,
   "end_time": "2024-05-03T16:38:14.940468",
   "environment_variables": {},
   "exception": null,
   "input_path": "__notebook__.ipynb",
   "output_path": "__notebook__.ipynb",
   "parameters": {},
   "start_time": "2024-05-03T12:29:41.567396",
   "version": "2.5.0"
  }
 },
 "nbformat": 4,
 "nbformat_minor": 5
}
